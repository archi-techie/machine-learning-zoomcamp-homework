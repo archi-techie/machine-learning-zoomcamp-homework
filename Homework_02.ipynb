{
 "cells": [
  {
   "cell_type": "markdown",
   "id": "99f3f61b",
   "metadata": {},
   "source": [
    "### Import libraries and load data"
   ]
  },
  {
   "cell_type": "code",
   "execution_count": 1,
   "id": "5c33d09f",
   "metadata": {},
   "outputs": [],
   "source": [
    "import pandas as pd\n",
    "import numpy as np\n",
    "import matplotlib.pyplot as plt\n",
    "import seaborn as sns"
   ]
  },
  {
   "cell_type": "code",
   "execution_count": 2,
   "id": "fc1a7d2b",
   "metadata": {},
   "outputs": [
    {
     "data": {
      "text/html": [
       "<div>\n",
       "<style scoped>\n",
       "    .dataframe tbody tr th:only-of-type {\n",
       "        vertical-align: middle;\n",
       "    }\n",
       "\n",
       "    .dataframe tbody tr th {\n",
       "        vertical-align: top;\n",
       "    }\n",
       "\n",
       "    .dataframe thead th {\n",
       "        text-align: right;\n",
       "    }\n",
       "</style>\n",
       "<table border=\"1\" class=\"dataframe\">\n",
       "  <thead>\n",
       "    <tr style=\"text-align: right;\">\n",
       "      <th></th>\n",
       "      <th>engine_displacement</th>\n",
       "      <th>num_cylinders</th>\n",
       "      <th>horsepower</th>\n",
       "      <th>vehicle_weight</th>\n",
       "      <th>acceleration</th>\n",
       "      <th>model_year</th>\n",
       "      <th>origin</th>\n",
       "      <th>fuel_type</th>\n",
       "      <th>drivetrain</th>\n",
       "      <th>num_doors</th>\n",
       "      <th>fuel_efficiency_mpg</th>\n",
       "    </tr>\n",
       "  </thead>\n",
       "  <tbody>\n",
       "    <tr>\n",
       "      <th>0</th>\n",
       "      <td>170</td>\n",
       "      <td>3.0</td>\n",
       "      <td>159.0</td>\n",
       "      <td>3413.433759</td>\n",
       "      <td>17.7</td>\n",
       "      <td>2003</td>\n",
       "      <td>Europe</td>\n",
       "      <td>Gasoline</td>\n",
       "      <td>All-wheel drive</td>\n",
       "      <td>0.0</td>\n",
       "      <td>13.231729</td>\n",
       "    </tr>\n",
       "    <tr>\n",
       "      <th>1</th>\n",
       "      <td>130</td>\n",
       "      <td>5.0</td>\n",
       "      <td>97.0</td>\n",
       "      <td>3149.664934</td>\n",
       "      <td>17.8</td>\n",
       "      <td>2007</td>\n",
       "      <td>USA</td>\n",
       "      <td>Gasoline</td>\n",
       "      <td>Front-wheel drive</td>\n",
       "      <td>0.0</td>\n",
       "      <td>13.688217</td>\n",
       "    </tr>\n",
       "    <tr>\n",
       "      <th>2</th>\n",
       "      <td>170</td>\n",
       "      <td>NaN</td>\n",
       "      <td>78.0</td>\n",
       "      <td>3079.038997</td>\n",
       "      <td>15.1</td>\n",
       "      <td>2018</td>\n",
       "      <td>Europe</td>\n",
       "      <td>Gasoline</td>\n",
       "      <td>Front-wheel drive</td>\n",
       "      <td>0.0</td>\n",
       "      <td>14.246341</td>\n",
       "    </tr>\n",
       "    <tr>\n",
       "      <th>3</th>\n",
       "      <td>220</td>\n",
       "      <td>4.0</td>\n",
       "      <td>NaN</td>\n",
       "      <td>2542.392402</td>\n",
       "      <td>20.2</td>\n",
       "      <td>2009</td>\n",
       "      <td>USA</td>\n",
       "      <td>Diesel</td>\n",
       "      <td>All-wheel drive</td>\n",
       "      <td>2.0</td>\n",
       "      <td>16.912736</td>\n",
       "    </tr>\n",
       "    <tr>\n",
       "      <th>4</th>\n",
       "      <td>210</td>\n",
       "      <td>1.0</td>\n",
       "      <td>140.0</td>\n",
       "      <td>3460.870990</td>\n",
       "      <td>14.4</td>\n",
       "      <td>2009</td>\n",
       "      <td>Europe</td>\n",
       "      <td>Gasoline</td>\n",
       "      <td>All-wheel drive</td>\n",
       "      <td>2.0</td>\n",
       "      <td>12.488369</td>\n",
       "    </tr>\n",
       "  </tbody>\n",
       "</table>\n",
       "</div>"
      ],
      "text/plain": [
       "   engine_displacement  num_cylinders  horsepower  vehicle_weight  \\\n",
       "0                  170            3.0       159.0     3413.433759   \n",
       "1                  130            5.0        97.0     3149.664934   \n",
       "2                  170            NaN        78.0     3079.038997   \n",
       "3                  220            4.0         NaN     2542.392402   \n",
       "4                  210            1.0       140.0     3460.870990   \n",
       "\n",
       "   acceleration  model_year  origin fuel_type         drivetrain  num_doors  \\\n",
       "0          17.7        2003  Europe  Gasoline    All-wheel drive        0.0   \n",
       "1          17.8        2007     USA  Gasoline  Front-wheel drive        0.0   \n",
       "2          15.1        2018  Europe  Gasoline  Front-wheel drive        0.0   \n",
       "3          20.2        2009     USA    Diesel    All-wheel drive        2.0   \n",
       "4          14.4        2009  Europe  Gasoline    All-wheel drive        2.0   \n",
       "\n",
       "   fuel_efficiency_mpg  \n",
       "0            13.231729  \n",
       "1            13.688217  \n",
       "2            14.246341  \n",
       "3            16.912736  \n",
       "4            12.488369  "
      ]
     },
     "execution_count": 2,
     "metadata": {},
     "output_type": "execute_result"
    }
   ],
   "source": [
    "#Load data\n",
    "\n",
    "data = pd.read_csv(\"https://raw.githubusercontent.com/alexeygrigorev/datasets/master/car_fuel_efficiency.csv\")\n",
    "data.head()"
   ]
  },
  {
   "cell_type": "code",
   "execution_count": 3,
   "id": "e3c0e48c",
   "metadata": {},
   "outputs": [
    {
     "data": {
      "text/html": [
       "<div>\n",
       "<style scoped>\n",
       "    .dataframe tbody tr th:only-of-type {\n",
       "        vertical-align: middle;\n",
       "    }\n",
       "\n",
       "    .dataframe tbody tr th {\n",
       "        vertical-align: top;\n",
       "    }\n",
       "\n",
       "    .dataframe thead th {\n",
       "        text-align: right;\n",
       "    }\n",
       "</style>\n",
       "<table border=\"1\" class=\"dataframe\">\n",
       "  <thead>\n",
       "    <tr style=\"text-align: right;\">\n",
       "      <th></th>\n",
       "      <th>engine_displacement</th>\n",
       "      <th>horsepower</th>\n",
       "      <th>vehicle_weight</th>\n",
       "      <th>model_year</th>\n",
       "      <th>fuel_efficiency_mpg</th>\n",
       "    </tr>\n",
       "  </thead>\n",
       "  <tbody>\n",
       "    <tr>\n",
       "      <th>0</th>\n",
       "      <td>170</td>\n",
       "      <td>159.0</td>\n",
       "      <td>3413.433759</td>\n",
       "      <td>2003</td>\n",
       "      <td>13.231729</td>\n",
       "    </tr>\n",
       "    <tr>\n",
       "      <th>1</th>\n",
       "      <td>130</td>\n",
       "      <td>97.0</td>\n",
       "      <td>3149.664934</td>\n",
       "      <td>2007</td>\n",
       "      <td>13.688217</td>\n",
       "    </tr>\n",
       "    <tr>\n",
       "      <th>2</th>\n",
       "      <td>170</td>\n",
       "      <td>78.0</td>\n",
       "      <td>3079.038997</td>\n",
       "      <td>2018</td>\n",
       "      <td>14.246341</td>\n",
       "    </tr>\n",
       "    <tr>\n",
       "      <th>3</th>\n",
       "      <td>220</td>\n",
       "      <td>NaN</td>\n",
       "      <td>2542.392402</td>\n",
       "      <td>2009</td>\n",
       "      <td>16.912736</td>\n",
       "    </tr>\n",
       "    <tr>\n",
       "      <th>4</th>\n",
       "      <td>210</td>\n",
       "      <td>140.0</td>\n",
       "      <td>3460.870990</td>\n",
       "      <td>2009</td>\n",
       "      <td>12.488369</td>\n",
       "    </tr>\n",
       "  </tbody>\n",
       "</table>\n",
       "</div>"
      ],
      "text/plain": [
       "   engine_displacement  horsepower  vehicle_weight  model_year  \\\n",
       "0                  170       159.0     3413.433759        2003   \n",
       "1                  130        97.0     3149.664934        2007   \n",
       "2                  170        78.0     3079.038997        2018   \n",
       "3                  220         NaN     2542.392402        2009   \n",
       "4                  210       140.0     3460.870990        2009   \n",
       "\n",
       "   fuel_efficiency_mpg  \n",
       "0            13.231729  \n",
       "1            13.688217  \n",
       "2            14.246341  \n",
       "3            16.912736  \n",
       "4            12.488369  "
      ]
     },
     "execution_count": 3,
     "metadata": {},
     "output_type": "execute_result"
    }
   ],
   "source": [
    "#Selecting the 5 columns to work with\n",
    "\n",
    "df = data[[\"engine_displacement\", \"horsepower\", \"vehicle_weight\", \"model_year\", \"fuel_efficiency_mpg\"]]\n",
    "df.head()"
   ]
  },
  {
   "cell_type": "code",
   "execution_count": 4,
   "id": "a5c77391",
   "metadata": {},
   "outputs": [
    {
     "name": "stdout",
     "output_type": "stream",
     "text": [
      "<class 'pandas.core.frame.DataFrame'>\n",
      "RangeIndex: 9704 entries, 0 to 9703\n",
      "Data columns (total 5 columns):\n",
      " #   Column               Non-Null Count  Dtype  \n",
      "---  ------               --------------  -----  \n",
      " 0   engine_displacement  9704 non-null   int64  \n",
      " 1   horsepower           8996 non-null   float64\n",
      " 2   vehicle_weight       9704 non-null   float64\n",
      " 3   model_year           9704 non-null   int64  \n",
      " 4   fuel_efficiency_mpg  9704 non-null   float64\n",
      "dtypes: float64(3), int64(2)\n",
      "memory usage: 379.2 KB\n"
     ]
    }
   ],
   "source": [
    "df.info()"
   ]
  },
  {
   "cell_type": "code",
   "execution_count": 5,
   "id": "f2a19baf",
   "metadata": {},
   "outputs": [
    {
     "data": {
      "image/png": "[encoded data removed]",
      "text/plain": [
       "<Figure size 432x288 with 1 Axes>"
      ]
     },
     "metadata": {
      "needs_background": "light"
     },
     "output_type": "display_data"
    }
   ],
   "source": [
    "#Visualizing the \"fuel_efficiency_mpg\" column\n",
    "\n",
    "sns.histplot(x=\"fuel_efficiency_mpg\", data=df, bins=50)\n",
    "plt.show()"
   ]
  },
  {
   "cell_type": "code",
   "execution_count": 6,
   "id": "cdf82d74",
   "metadata": {},
   "outputs": [
    {
     "data": {
      "text/plain": [
       "engine_displacement      0\n",
       "horsepower             708\n",
       "vehicle_weight           0\n",
       "model_year               0\n",
       "fuel_efficiency_mpg      0\n",
       "dtype: int64"
      ]
     },
     "execution_count": 6,
     "metadata": {},
     "output_type": "execute_result"
    }
   ],
   "source": [
    "#Checking for missing values\n",
    "\n",
    "df.isnull().sum()"
   ]
  },
  {
   "cell_type": "code",
   "execution_count": 7,
   "id": "9a0cef0a",
   "metadata": {},
   "outputs": [
    {
     "data": {
      "text/html": [
       "<div>\n",
       "<style scoped>\n",
       "    .dataframe tbody tr th:only-of-type {\n",
       "        vertical-align: middle;\n",
       "    }\n",
       "\n",
       "    .dataframe tbody tr th {\n",
       "        vertical-align: top;\n",
       "    }\n",
       "\n",
       "    .dataframe thead th {\n",
       "        text-align: right;\n",
       "    }\n",
       "</style>\n",
       "<table border=\"1\" class=\"dataframe\">\n",
       "  <thead>\n",
       "    <tr style=\"text-align: right;\">\n",
       "      <th></th>\n",
       "      <th>engine_displacement</th>\n",
       "      <th>horsepower</th>\n",
       "      <th>vehicle_weight</th>\n",
       "      <th>model_year</th>\n",
       "      <th>fuel_efficiency_mpg</th>\n",
       "    </tr>\n",
       "  </thead>\n",
       "  <tbody>\n",
       "    <tr>\n",
       "      <th>count</th>\n",
       "      <td>9704.000000</td>\n",
       "      <td>8996.000000</td>\n",
       "      <td>9704.000000</td>\n",
       "      <td>9704.000000</td>\n",
       "      <td>9704.000000</td>\n",
       "    </tr>\n",
       "    <tr>\n",
       "      <th>mean</th>\n",
       "      <td>199.708368</td>\n",
       "      <td>149.657292</td>\n",
       "      <td>3001.280993</td>\n",
       "      <td>2011.484027</td>\n",
       "      <td>14.985243</td>\n",
       "    </tr>\n",
       "    <tr>\n",
       "      <th>std</th>\n",
       "      <td>49.455319</td>\n",
       "      <td>29.879555</td>\n",
       "      <td>497.894860</td>\n",
       "      <td>6.659808</td>\n",
       "      <td>2.556468</td>\n",
       "    </tr>\n",
       "    <tr>\n",
       "      <th>min</th>\n",
       "      <td>10.000000</td>\n",
       "      <td>37.000000</td>\n",
       "      <td>952.681761</td>\n",
       "      <td>2000.000000</td>\n",
       "      <td>6.200971</td>\n",
       "    </tr>\n",
       "    <tr>\n",
       "      <th>25%</th>\n",
       "      <td>170.000000</td>\n",
       "      <td>130.000000</td>\n",
       "      <td>2666.248985</td>\n",
       "      <td>2006.000000</td>\n",
       "      <td>13.267459</td>\n",
       "    </tr>\n",
       "    <tr>\n",
       "      <th>50%</th>\n",
       "      <td>200.000000</td>\n",
       "      <td>149.000000</td>\n",
       "      <td>2993.226296</td>\n",
       "      <td>2012.000000</td>\n",
       "      <td>15.006037</td>\n",
       "    </tr>\n",
       "    <tr>\n",
       "      <th>75%</th>\n",
       "      <td>230.000000</td>\n",
       "      <td>170.000000</td>\n",
       "      <td>3334.957039</td>\n",
       "      <td>2017.000000</td>\n",
       "      <td>16.707965</td>\n",
       "    </tr>\n",
       "    <tr>\n",
       "      <th>max</th>\n",
       "      <td>380.000000</td>\n",
       "      <td>271.000000</td>\n",
       "      <td>4739.077089</td>\n",
       "      <td>2023.000000</td>\n",
       "      <td>25.967222</td>\n",
       "    </tr>\n",
       "  </tbody>\n",
       "</table>\n",
       "</div>"
      ],
      "text/plain": [
       "       engine_displacement   horsepower  vehicle_weight   model_year  \\\n",
       "count          9704.000000  8996.000000     9704.000000  9704.000000   \n",
       "mean            199.708368   149.657292     3001.280993  2011.484027   \n",
       "std              49.455319    29.879555      497.894860     6.659808   \n",
       "min              10.000000    37.000000      952.681761  2000.000000   \n",
       "25%             170.000000   130.000000     2666.248985  2006.000000   \n",
       "50%             200.000000   149.000000     2993.226296  2012.000000   \n",
       "75%             230.000000   170.000000     3334.957039  2017.000000   \n",
       "max             380.000000   271.000000     4739.077089  2023.000000   \n",
       "\n",
       "       fuel_efficiency_mpg  \n",
       "count          9704.000000  \n",
       "mean             14.985243  \n",
       "std               2.556468  \n",
       "min               6.200971  \n",
       "25%              13.267459  \n",
       "50%              15.006037  \n",
       "75%              16.707965  \n",
       "max              25.967222  "
      ]
     },
     "execution_count": 7,
     "metadata": {},
     "output_type": "execute_result"
    }
   ],
   "source": [
    "df.describe()"
   ]
  },
  {
   "cell_type": "markdown",
   "id": "45c7a904",
   "metadata": {},
   "source": [
    "### Splitting the data"
   ]
  },
  {
   "cell_type": "code",
   "execution_count": 8,
   "id": "a43bd1bb",
   "metadata": {},
   "outputs": [
    {
     "data": {
      "text/plain": [
       "(9704, 9704)"
      ]
     },
     "execution_count": 8,
     "metadata": {},
     "output_type": "execute_result"
    }
   ],
   "source": [
    "n = len(df)\n",
    "\n",
    "n_val = int(n * 0.2)\n",
    "n_test = int(n * 0.2)\n",
    "n_train = n- n_val - n_test\n",
    "\n",
    "n, n_val+n_test+n_train"
   ]
  },
  {
   "cell_type": "code",
   "execution_count": 9,
   "id": "d9f7f9e9",
   "metadata": {},
   "outputs": [],
   "source": [
    "idx = np.arange(n)"
   ]
  },
  {
   "cell_type": "code",
   "execution_count": 10,
   "id": "8627b76e",
   "metadata": {},
   "outputs": [],
   "source": [
    "np.random.seed(42)\n",
    "np.random.shuffle(idx)"
   ]
  },
  {
   "cell_type": "code",
   "execution_count": 11,
   "id": "b4ff13d0",
   "metadata": {},
   "outputs": [],
   "source": [
    "df_train = df.iloc[idx[:n_train]]\n",
    "df_val = df.iloc[idx[n_train:n_train + n_val]]\n",
    "df_test = df.iloc[idx[n_train + n_val:]]"
   ]
  },
  {
   "cell_type": "code",
   "execution_count": 12,
   "id": "c96716e6",
   "metadata": {},
   "outputs": [
    {
     "data": {
      "text/html": [
       "<div>\n",
       "<style scoped>\n",
       "    .dataframe tbody tr th:only-of-type {\n",
       "        vertical-align: middle;\n",
       "    }\n",
       "\n",
       "    .dataframe tbody tr th {\n",
       "        vertical-align: top;\n",
       "    }\n",
       "\n",
       "    .dataframe thead th {\n",
       "        text-align: right;\n",
       "    }\n",
       "</style>\n",
       "<table border=\"1\" class=\"dataframe\">\n",
       "  <thead>\n",
       "    <tr style=\"text-align: right;\">\n",
       "      <th></th>\n",
       "      <th>engine_displacement</th>\n",
       "      <th>horsepower</th>\n",
       "      <th>vehicle_weight</th>\n",
       "      <th>model_year</th>\n",
       "      <th>fuel_efficiency_mpg</th>\n",
       "    </tr>\n",
       "  </thead>\n",
       "  <tbody>\n",
       "    <tr>\n",
       "      <th>483</th>\n",
       "      <td>220</td>\n",
       "      <td>144.0</td>\n",
       "      <td>2535.887591</td>\n",
       "      <td>2009</td>\n",
       "      <td>16.642943</td>\n",
       "    </tr>\n",
       "    <tr>\n",
       "      <th>7506</th>\n",
       "      <td>160</td>\n",
       "      <td>141.0</td>\n",
       "      <td>2741.170484</td>\n",
       "      <td>2019</td>\n",
       "      <td>16.298377</td>\n",
       "    </tr>\n",
       "    <tr>\n",
       "      <th>8795</th>\n",
       "      <td>230</td>\n",
       "      <td>155.0</td>\n",
       "      <td>2471.880237</td>\n",
       "      <td>2017</td>\n",
       "      <td>18.591822</td>\n",
       "    </tr>\n",
       "    <tr>\n",
       "      <th>1688</th>\n",
       "      <td>150</td>\n",
       "      <td>206.0</td>\n",
       "      <td>3748.164469</td>\n",
       "      <td>2015</td>\n",
       "      <td>11.818843</td>\n",
       "    </tr>\n",
       "    <tr>\n",
       "      <th>6217</th>\n",
       "      <td>300</td>\n",
       "      <td>111.0</td>\n",
       "      <td>2135.716359</td>\n",
       "      <td>2006</td>\n",
       "      <td>19.402209</td>\n",
       "    </tr>\n",
       "    <tr>\n",
       "      <th>...</th>\n",
       "      <td>...</td>\n",
       "      <td>...</td>\n",
       "      <td>...</td>\n",
       "      <td>...</td>\n",
       "      <td>...</td>\n",
       "    </tr>\n",
       "    <tr>\n",
       "      <th>1696</th>\n",
       "      <td>260</td>\n",
       "      <td>139.0</td>\n",
       "      <td>2606.972984</td>\n",
       "      <td>2009</td>\n",
       "      <td>16.964054</td>\n",
       "    </tr>\n",
       "    <tr>\n",
       "      <th>5685</th>\n",
       "      <td>280</td>\n",
       "      <td>132.0</td>\n",
       "      <td>4004.214323</td>\n",
       "      <td>2014</td>\n",
       "      <td>10.059094</td>\n",
       "    </tr>\n",
       "    <tr>\n",
       "      <th>6735</th>\n",
       "      <td>210</td>\n",
       "      <td>152.0</td>\n",
       "      <td>2500.175687</td>\n",
       "      <td>2020</td>\n",
       "      <td>17.593237</td>\n",
       "    </tr>\n",
       "    <tr>\n",
       "      <th>2052</th>\n",
       "      <td>250</td>\n",
       "      <td>154.0</td>\n",
       "      <td>2254.313245</td>\n",
       "      <td>2002</td>\n",
       "      <td>18.925748</td>\n",
       "    </tr>\n",
       "    <tr>\n",
       "      <th>1776</th>\n",
       "      <td>210</td>\n",
       "      <td>152.0</td>\n",
       "      <td>2435.203606</td>\n",
       "      <td>2004</td>\n",
       "      <td>17.965284</td>\n",
       "    </tr>\n",
       "  </tbody>\n",
       "</table>\n",
       "<p>5824 rows × 5 columns</p>\n",
       "</div>"
      ],
      "text/plain": [
       "      engine_displacement  horsepower  vehicle_weight  model_year  \\\n",
       "483                   220       144.0     2535.887591        2009   \n",
       "7506                  160       141.0     2741.170484        2019   \n",
       "8795                  230       155.0     2471.880237        2017   \n",
       "1688                  150       206.0     3748.164469        2015   \n",
       "6217                  300       111.0     2135.716359        2006   \n",
       "...                   ...         ...             ...         ...   \n",
       "1696                  260       139.0     2606.972984        2009   \n",
       "5685                  280       132.0     4004.214323        2014   \n",
       "6735                  210       152.0     2500.175687        2020   \n",
       "2052                  250       154.0     2254.313245        2002   \n",
       "1776                  210       152.0     2435.203606        2004   \n",
       "\n",
       "      fuel_efficiency_mpg  \n",
       "483             16.642943  \n",
       "7506            16.298377  \n",
       "8795            18.591822  \n",
       "1688            11.818843  \n",
       "6217            19.402209  \n",
       "...                   ...  \n",
       "1696            16.964054  \n",
       "5685            10.059094  \n",
       "6735            17.593237  \n",
       "2052            18.925748  \n",
       "1776            17.965284  \n",
       "\n",
       "[5824 rows x 5 columns]"
      ]
     },
     "execution_count": 12,
     "metadata": {},
     "output_type": "execute_result"
    }
   ],
   "source": [
    "df_train"
   ]
  },
  {
   "cell_type": "code",
   "execution_count": 13,
   "id": "d89df740",
   "metadata": {},
   "outputs": [],
   "source": [
    "df_train = df_train.reset_index(drop=True)\n",
    "df_val = df_val.reset_index(drop=True)\n",
    "df_test = df_test.reset_index(drop=True)"
   ]
  },
  {
   "cell_type": "code",
   "execution_count": 14,
   "id": "be673858",
   "metadata": {},
   "outputs": [
    {
     "data": {
      "text/plain": [
       "(5824, 1940, 1940)"
      ]
     },
     "execution_count": 14,
     "metadata": {},
     "output_type": "execute_result"
    }
   ],
   "source": [
    "len(df_train), len(df_val), len(df_test)"
   ]
  },
  {
   "cell_type": "code",
   "execution_count": 15,
   "id": "287a38fc",
   "metadata": {},
   "outputs": [],
   "source": [
    "y_train = df_train.fuel_efficiency_mpg.values \n",
    "y_val   = df_val.fuel_efficiency_mpg.values \n",
    "y_test  = df_test.fuel_efficiency_mpg.values "
   ]
  },
  {
   "cell_type": "code",
   "execution_count": 16,
   "id": "215ad454",
   "metadata": {},
   "outputs": [
    {
     "data": {
      "text/plain": [
       "5824"
      ]
     },
     "execution_count": 16,
     "metadata": {},
     "output_type": "execute_result"
    }
   ],
   "source": [
    "len(y_train)"
   ]
  },
  {
   "cell_type": "code",
   "execution_count": 17,
   "id": "a1c7a928",
   "metadata": {},
   "outputs": [],
   "source": [
    "del df_train[\"fuel_efficiency_mpg\"]\n",
    "del df_val[\"fuel_efficiency_mpg\"]\n",
    "del df_test[\"fuel_efficiency_mpg\"]\n"
   ]
  },
  {
   "cell_type": "code",
   "execution_count": 18,
   "id": "de5a1979",
   "metadata": {},
   "outputs": [
    {
     "data": {
      "text/plain": [
       "engine_displacement     199.708368\n",
       "horsepower              149.657292\n",
       "vehicle_weight         3001.280993\n",
       "model_year             2011.484027\n",
       "fuel_efficiency_mpg      14.985243\n",
       "dtype: float64"
      ]
     },
     "execution_count": 18,
     "metadata": {},
     "output_type": "execute_result"
    }
   ],
   "source": [
    "df.mean()"
   ]
  },
  {
   "cell_type": "markdown",
   "id": "427d99bf",
   "metadata": {},
   "source": [
    "### Dealing with Missing Values and Training model"
   ]
  },
  {
   "cell_type": "markdown",
   "id": "f63abf97",
   "metadata": {},
   "source": [
    "##### Filling mssing values with 0 + Linear Regression "
   ]
  },
  {
   "cell_type": "code",
   "execution_count": 19,
   "id": "af4727c3",
   "metadata": {},
   "outputs": [],
   "source": [
    "def train_linear_regression(X, y):\n",
    "    ones = np.ones(X.shape[0])\n",
    "    X = np.column_stack([ones, X])\n",
    "\n",
    "    XTX = X.T.dot(X)\n",
    "    XTX_inv = np.linalg.inv(XTX)\n",
    "    w_full = XTX_inv.dot(X.T).dot(y)\n",
    "    \n",
    "    return w_full[0], w_full[1:]"
   ]
  },
  {
   "cell_type": "code",
   "execution_count": 20,
   "id": "b890e4fc",
   "metadata": {},
   "outputs": [
    {
     "data": {
      "text/plain": [
       "array([17.33526223, 16.29296317, 17.69885099, ..., 17.54541307,\n",
       "       18.78287539, 17.86564843])"
      ]
     },
     "execution_count": 20,
     "metadata": {},
     "output_type": "execute_result"
    }
   ],
   "source": [
    "df_train_copy = df_train.copy()\n",
    "\n",
    "X_train_0 = df_train_copy.fillna(0).values\n",
    "\n",
    "w0, w = train_linear_regression(X_train_0, y_train)\n",
    "\n",
    "y_pred_0 = w0 + X_train_0.dot(w)\n",
    "y_pred_0"
   ]
  },
  {
   "cell_type": "code",
   "execution_count": 21,
   "id": "b6b5d849",
   "metadata": {},
   "outputs": [
    {
     "data": {
      "text/plain": [
       "<matplotlib.legend.Legend at 0x19cf3d80e20>"
      ]
     },
     "execution_count": 21,
     "metadata": {},
     "output_type": "execute_result"
    },
    {
     "data": {
      "image/png": "[encoded data removed]",
      "text/plain": [
       "<Figure size 432x288 with 1 Axes>"
      ]
     },
     "metadata": {
      "needs_background": "light"
     },
     "output_type": "display_data"
    }
   ],
   "source": [
    "sns.histplot(y_pred_0, label = 'prediction', color='red', alpha=0.5, bins=50)\n",
    "sns.histplot(y_train, label = 'target', color='blue', alpha=0.5, bins=50)\n",
    "plt.legend()"
   ]
  },
  {
   "cell_type": "markdown",
   "id": "7e1e8f5d",
   "metadata": {},
   "source": [
    "##### Filling mssing values with mean + Linear Regression "
   ]
  },
  {
   "cell_type": "code",
   "execution_count": 22,
   "id": "01c7e70e",
   "metadata": {},
   "outputs": [
    {
     "data": {
      "text/plain": [
       "0       17.259110\n",
       "1       16.190113\n",
       "2       17.692459\n",
       "3       11.814410\n",
       "4       18.934381\n",
       "          ...    \n",
       "5819    16.856287\n",
       "5820     9.785104\n",
       "5821    17.516664\n",
       "5822    18.778124\n",
       "5823    17.845934\n",
       "Length: 5824, dtype: float64"
      ]
     },
     "execution_count": 22,
     "metadata": {},
     "output_type": "execute_result"
    }
   ],
   "source": [
    "X_train = df_train.fillna(df_train['horsepower'].mean())\n",
    "\n",
    "\n",
    "w0, w = train_linear_regression(X_train, y_train)\n",
    "\n",
    "y_pred = w0 + X_train.dot(w)\n",
    "y_pred"
   ]
  },
  {
   "cell_type": "code",
   "execution_count": 23,
   "id": "1c7e35c8",
   "metadata": {},
   "outputs": [
    {
     "data": {
      "text/plain": [
       "<matplotlib.legend.Legend at 0x19cf3ee4a00>"
      ]
     },
     "execution_count": 23,
     "metadata": {},
     "output_type": "execute_result"
    },
    {
     "data": {
      "image/png": "[encoded data removed]",
      "text/plain": [
       "<Figure size 432x288 with 1 Axes>"
      ]
     },
     "metadata": {
      "needs_background": "light"
     },
     "output_type": "display_data"
    }
   ],
   "source": [
    "sns.histplot(y_pred,label = 'prediction', color='red', alpha=0.5, bins=50)\n",
    "sns.histplot(y_train, label = 'target', color='blue', alpha=0.5, bins=50)\n",
    "plt.legend()"
   ]
  },
  {
   "cell_type": "markdown",
   "id": "f3d6ab03",
   "metadata": {},
   "source": [
    "### RMSE and Validation "
   ]
  },
  {
   "cell_type": "code",
   "execution_count": 24,
   "id": "6039039c",
   "metadata": {},
   "outputs": [],
   "source": [
    "#Calculating RMSE for Linear Regression with filling misssing value with mean\n",
    "\n",
    "def rmse(y, y_pred):\n",
    "    se = (y - y_pred) ** 2\n",
    "    mse = se.mean()\n",
    "    return np.sqrt(mse)"
   ]
  },
  {
   "cell_type": "code",
   "execution_count": 25,
   "id": "4a37d8bf",
   "metadata": {},
   "outputs": [
    {
     "data": {
      "text/plain": [
       "0.46"
      ]
     },
     "execution_count": 25,
     "metadata": {},
     "output_type": "execute_result"
    }
   ],
   "source": [
    "round(rmse(y_train, y_pred), 2)"
   ]
  },
  {
   "cell_type": "code",
   "execution_count": 26,
   "id": "ba943f8a",
   "metadata": {},
   "outputs": [
    {
     "data": {
      "text/plain": [
       "0.52"
      ]
     },
     "execution_count": 26,
     "metadata": {},
     "output_type": "execute_result"
    }
   ],
   "source": [
    "#Evaluating model (Linear regression with fiiling missing value with 0)with validating dataset and calculating RMSE\n",
    "\n",
    "X_train_0 = df_train_copy.fillna(0).values\n",
    "w0, w = train_linear_regression(X_train_0, y_train)\n",
    "\n",
    "X_val = df_val.fillna(0).values\n",
    "y_pred = w0 + X_val.dot(w)\n",
    "score = rmse(y_val, y_pred)\n",
    "round(score, 2)"
   ]
  },
  {
   "cell_type": "markdown",
   "id": "97925505",
   "metadata": {},
   "source": [
    "### Regularization and Model Tuning"
   ]
  },
  {
   "cell_type": "code",
   "execution_count": 27,
   "id": "a3210162",
   "metadata": {},
   "outputs": [],
   "source": [
    "def train_linear_regression_reg(X, y, r):\n",
    "    ones = np.ones(X.shape[0])\n",
    "    X = np.column_stack([ones, X])\n",
    "\n",
    "    XTX = X.T.dot(X)\n",
    "    XTX = XTX + r * np.eye(XTX.shape[0])\n",
    "\n",
    "    XTX_inv = np.linalg.inv(XTX)\n",
    "    w_full = XTX_inv.dot(X.T).dot(y)\n",
    "    \n",
    "    return w_full[0], w_full[1:]"
   ]
  },
  {
   "cell_type": "code",
   "execution_count": 28,
   "id": "1d108936",
   "metadata": {},
   "outputs": [
    {
     "name": "stdout",
     "output_type": "stream",
     "text": [
      "0.0 28.827365476143953 0.52\n",
      "0.01 24.926838421020353 0.52\n",
      "0.1 11.23966108504652 0.52\n",
      "1 1.7315979412697593 0.52\n",
      "5 0.3638075020731068 0.52\n",
      "10 0.1830624662272038 0.52\n",
      "100 0.018418017307654876 0.52\n"
     ]
    }
   ],
   "source": [
    "for r in [0.0, 0.01, 0.1, 1, 5, 10, 100]:\n",
    "    X_train_0 = df_train_copy.fillna(0).values\n",
    "    w0, w = train_linear_regression_reg(X_train_0, y_train, r =r)\n",
    "\n",
    "    X_val = df_val.fillna(0).values\n",
    "    y_pred = w0 + X_val.dot(w)\n",
    "    score = rmse(y_val, y_pred)\n",
    "    \n",
    "    print(r, w0, round(score,2))"
   ]
  },
  {
   "cell_type": "markdown",
   "id": "4d5d783d",
   "metadata": {},
   "source": [
    "### Question 5\n"
   ]
  },
  {
   "cell_type": "code",
   "execution_count": 29,
   "id": "b40ca00d",
   "metadata": {},
   "outputs": [
    {
     "data": {
      "text/html": [
       "<div>\n",
       "<style scoped>\n",
       "    .dataframe tbody tr th:only-of-type {\n",
       "        vertical-align: middle;\n",
       "    }\n",
       "\n",
       "    .dataframe tbody tr th {\n",
       "        vertical-align: top;\n",
       "    }\n",
       "\n",
       "    .dataframe thead th {\n",
       "        text-align: right;\n",
       "    }\n",
       "</style>\n",
       "<table border=\"1\" class=\"dataframe\">\n",
       "  <thead>\n",
       "    <tr style=\"text-align: right;\">\n",
       "      <th></th>\n",
       "      <th>engine_displacement</th>\n",
       "      <th>horsepower</th>\n",
       "      <th>vehicle_weight</th>\n",
       "      <th>model_year</th>\n",
       "      <th>fuel_efficiency_mpg</th>\n",
       "    </tr>\n",
       "  </thead>\n",
       "  <tbody>\n",
       "    <tr>\n",
       "      <th>0</th>\n",
       "      <td>170</td>\n",
       "      <td>159.0</td>\n",
       "      <td>3413.433759</td>\n",
       "      <td>2003</td>\n",
       "      <td>13.231729</td>\n",
       "    </tr>\n",
       "    <tr>\n",
       "      <th>1</th>\n",
       "      <td>130</td>\n",
       "      <td>97.0</td>\n",
       "      <td>3149.664934</td>\n",
       "      <td>2007</td>\n",
       "      <td>13.688217</td>\n",
       "    </tr>\n",
       "    <tr>\n",
       "      <th>2</th>\n",
       "      <td>170</td>\n",
       "      <td>78.0</td>\n",
       "      <td>3079.038997</td>\n",
       "      <td>2018</td>\n",
       "      <td>14.246341</td>\n",
       "    </tr>\n",
       "    <tr>\n",
       "      <th>3</th>\n",
       "      <td>220</td>\n",
       "      <td>NaN</td>\n",
       "      <td>2542.392402</td>\n",
       "      <td>2009</td>\n",
       "      <td>16.912736</td>\n",
       "    </tr>\n",
       "    <tr>\n",
       "      <th>4</th>\n",
       "      <td>210</td>\n",
       "      <td>140.0</td>\n",
       "      <td>3460.870990</td>\n",
       "      <td>2009</td>\n",
       "      <td>12.488369</td>\n",
       "    </tr>\n",
       "    <tr>\n",
       "      <th>...</th>\n",
       "      <td>...</td>\n",
       "      <td>...</td>\n",
       "      <td>...</td>\n",
       "      <td>...</td>\n",
       "      <td>...</td>\n",
       "    </tr>\n",
       "    <tr>\n",
       "      <th>9699</th>\n",
       "      <td>140</td>\n",
       "      <td>164.0</td>\n",
       "      <td>2981.107371</td>\n",
       "      <td>2013</td>\n",
       "      <td>15.101802</td>\n",
       "    </tr>\n",
       "    <tr>\n",
       "      <th>9700</th>\n",
       "      <td>180</td>\n",
       "      <td>154.0</td>\n",
       "      <td>2439.525729</td>\n",
       "      <td>2004</td>\n",
       "      <td>17.962326</td>\n",
       "    </tr>\n",
       "    <tr>\n",
       "      <th>9701</th>\n",
       "      <td>220</td>\n",
       "      <td>138.0</td>\n",
       "      <td>2583.471318</td>\n",
       "      <td>2008</td>\n",
       "      <td>17.186587</td>\n",
       "    </tr>\n",
       "    <tr>\n",
       "      <th>9702</th>\n",
       "      <td>230</td>\n",
       "      <td>177.0</td>\n",
       "      <td>2905.527390</td>\n",
       "      <td>2011</td>\n",
       "      <td>15.331551</td>\n",
       "    </tr>\n",
       "    <tr>\n",
       "      <th>9703</th>\n",
       "      <td>270</td>\n",
       "      <td>140.0</td>\n",
       "      <td>2908.043477</td>\n",
       "      <td>2005</td>\n",
       "      <td>14.884467</td>\n",
       "    </tr>\n",
       "  </tbody>\n",
       "</table>\n",
       "<p>9704 rows × 5 columns</p>\n",
       "</div>"
      ],
      "text/plain": [
       "      engine_displacement  horsepower  vehicle_weight  model_year  \\\n",
       "0                     170       159.0     3413.433759        2003   \n",
       "1                     130        97.0     3149.664934        2007   \n",
       "2                     170        78.0     3079.038997        2018   \n",
       "3                     220         NaN     2542.392402        2009   \n",
       "4                     210       140.0     3460.870990        2009   \n",
       "...                   ...         ...             ...         ...   \n",
       "9699                  140       164.0     2981.107371        2013   \n",
       "9700                  180       154.0     2439.525729        2004   \n",
       "9701                  220       138.0     2583.471318        2008   \n",
       "9702                  230       177.0     2905.527390        2011   \n",
       "9703                  270       140.0     2908.043477        2005   \n",
       "\n",
       "      fuel_efficiency_mpg  \n",
       "0               13.231729  \n",
       "1               13.688217  \n",
       "2               14.246341  \n",
       "3               16.912736  \n",
       "4               12.488369  \n",
       "...                   ...  \n",
       "9699            15.101802  \n",
       "9700            17.962326  \n",
       "9701            17.186587  \n",
       "9702            15.331551  \n",
       "9703            14.884467  \n",
       "\n",
       "[9704 rows x 5 columns]"
      ]
     },
     "execution_count": 29,
     "metadata": {},
     "output_type": "execute_result"
    }
   ],
   "source": [
    "df"
   ]
  },
  {
   "cell_type": "code",
   "execution_count": 30,
   "id": "bb856c85",
   "metadata": {},
   "outputs": [
    {
     "data": {
      "text/plain": [
       "(9704, 9704)"
      ]
     },
     "execution_count": 30,
     "metadata": {},
     "output_type": "execute_result"
    }
   ],
   "source": [
    "# splitting the length of data frame to train, val, and test data\n",
    "t = len(df)\n",
    "\n",
    "t_val = int(t * 0.2)\n",
    "t_test = int(t * 0.2)\n",
    "t_train = t- t_val - t_test\n",
    "\n",
    "t, t_val+t_test+t_train"
   ]
  },
  {
   "cell_type": "code",
   "execution_count": 31,
   "id": "ad8019fc",
   "metadata": {
    "scrolled": false
   },
   "outputs": [
    {
     "name": "stdout",
     "output_type": "stream",
     "text": [
      "Standard deviation of RMSE scores: 0.007\n"
     ]
    }
   ],
   "source": [
    "rmse_scores = []\n",
    "\n",
    "for s in range(10):\n",
    "    indx = np.arange(t)\n",
    "    np.random.seed(s)\n",
    "    np.random.shuffle(indx)\n",
    "    \n",
    "    train_df = df.iloc[indx[:t_train]]\n",
    "    val_df = df.iloc[indx[t_train:t_train + t_val]]\n",
    "    test_df = df.iloc[indx[t_train + t_val:]]\n",
    "    \n",
    "    train_df = train_df.reset_index(drop=True)\n",
    "    val_df = val_df.reset_index(drop=True)\n",
    "    test_df = test_df.reset_index(drop=True)\n",
    "    \n",
    "    y_train = train_df.fuel_efficiency_mpg.values \n",
    "    y_val   = val_df.fuel_efficiency_mpg.values \n",
    "    y_test  = test_df.fuel_efficiency_mpg.values \n",
    "    \n",
    "    del train_df[\"fuel_efficiency_mpg\"]\n",
    "    del val_df[\"fuel_efficiency_mpg\"]\n",
    "    del test_df[\"fuel_efficiency_mpg\"]\n",
    "    \n",
    "    def train_linear_regression(X, y):\n",
    "        ones = np.ones(X.shape[0])\n",
    "        X = np.column_stack([ones, X])\n",
    "\n",
    "        XTX = X.T.dot(X)\n",
    "        XTX_inv = np.linalg.inv(XTX)\n",
    "        w_full = XTX_inv.dot(X.T).dot(y)\n",
    "    \n",
    "        return w_full[0], w_full[1:]\n",
    "    \n",
    "\n",
    "    X_train = train_df.fillna(0).values\n",
    "\n",
    "    w0, w = train_linear_regression(X_train, y_train)\n",
    "\n",
    "    y_pred = w0 + X_train.dot(w)\n",
    "\n",
    "    \n",
    "    \n",
    "    def rmse(y, y_pred):\n",
    "        se = (y - y_pred) ** 2\n",
    "        mse = se.mean()\n",
    "        return np.sqrt(mse)\n",
    "    \n",
    "    X_val = val_df.fillna(0).values\n",
    "    y_pred = w0 + X_val.dot(w)\n",
    "    score = rmse(y_val, y_pred)\n",
    "    \n",
    "    rmse_scores.append(score)\n",
    "    \n",
    "\n",
    "std = np.std(rmse_scores)\n",
    "print(\"Standard deviation of RMSE scores:\", round(std, 3))\n"
   ]
  },
  {
   "cell_type": "markdown",
   "id": "a679ee93",
   "metadata": {},
   "source": [
    "### Question 6\n",
    "\n",
    "Split the dataset like previously, use seed 9.\n",
    "\n",
    "Combine train and validation datasets.\n",
    "\n",
    "Fill the missing values with 0 and train a model with r=0.001.\n",
    "\n",
    "What's the RMSE on the test dataset?\n"
   ]
  },
  {
   "cell_type": "code",
   "execution_count": 32,
   "id": "fd7ef7c0",
   "metadata": {},
   "outputs": [
    {
     "data": {
      "text/plain": [
       "(9704, 9704)"
      ]
     },
     "execution_count": 32,
     "metadata": {},
     "output_type": "execute_result"
    }
   ],
   "source": [
    "# splitting the length of data frame to train, val, and test data\n",
    "t = len(df)\n",
    "\n",
    "t_val = int(t * 0.2)\n",
    "t_test = int(t * 0.2)\n",
    "t_train = t- t_val - t_test\n",
    "\n",
    "t, t_val+t_test+t_train"
   ]
  },
  {
   "cell_type": "code",
   "execution_count": 33,
   "id": "8995331a",
   "metadata": {},
   "outputs": [],
   "source": [
    "# Combining train and validation datasets.\n",
    "\n",
    "t_train_full = t_train + t_val"
   ]
  },
  {
   "cell_type": "code",
   "execution_count": 34,
   "id": "752bccd6",
   "metadata": {},
   "outputs": [],
   "source": [
    "indx = np.arange(t)\n",
    "\n",
    "np.random.seed(9)\n",
    "np.random.shuffle(indx)"
   ]
  },
  {
   "cell_type": "code",
   "execution_count": 35,
   "id": "9d608a5e",
   "metadata": {},
   "outputs": [],
   "source": [
    "train_df_full = df.iloc[indx[:t_train_full]]\n",
    "test_df = df.iloc[indx[t_train_full:]]\n",
    "    \n",
    "train_df_full = train_df_full.reset_index(drop=True)\n",
    "test_df = test_df.reset_index(drop=True)\n",
    "    \n",
    "y_train = train_df_full.fuel_efficiency_mpg.values  \n",
    "y_test  = test_df.fuel_efficiency_mpg.values \n",
    "    \n",
    "del train_df_full[\"fuel_efficiency_mpg\"]\n",
    "del test_df[\"fuel_efficiency_mpg\"]"
   ]
  },
  {
   "cell_type": "code",
   "execution_count": 36,
   "id": "93b72891",
   "metadata": {},
   "outputs": [
    {
     "data": {
      "text/plain": [
       "array([ 9.70485825, 14.02234422, 15.12754308, ..., 13.31158695,\n",
       "       17.55565057, 16.61070902])"
      ]
     },
     "execution_count": 36,
     "metadata": {},
     "output_type": "execute_result"
    }
   ],
   "source": [
    " \n",
    "def train_linear_regression(X, y):\n",
    "    ones = np.ones(X.shape[0])\n",
    "    X = np.column_stack([ones, X])\n",
    "\n",
    "    XTX = X.T.dot(X)\n",
    "    XTX_inv = np.linalg.inv(XTX)\n",
    "    w_full = XTX_inv.dot(X.T).dot(y)\n",
    "    \n",
    "    return w_full[0], w_full[1:]\n",
    "    \n",
    "\n",
    "X_train = train_df_full.fillna(0).values\n",
    "\n",
    "w0, w = train_linear_regression(X_train, y_train)\n",
    "\n",
    "y_pred = w0 + X_train.dot(w)\n",
    "y_pred"
   ]
  },
  {
   "cell_type": "code",
   "execution_count": 37,
   "id": "b6480af9",
   "metadata": {},
   "outputs": [],
   "source": [
    "def train_linear_regression_reg(X, y, r=0.001):\n",
    "    ones = np.ones(X.shape[0])\n",
    "    X = np.column_stack([ones, X])\n",
    "\n",
    "    XTX = X.T.dot(X)\n",
    "    XTX = XTX + r * np.eye(XTX.shape[0])\n",
    "\n",
    "    XTX_inv = np.linalg.inv(XTX)\n",
    "    w_full = XTX_inv.dot(X.T).dot(y)\n",
    "    \n",
    "    return w_full[0], w_full[1:]"
   ]
  },
  {
   "cell_type": "code",
   "execution_count": 38,
   "id": "471907ae",
   "metadata": {},
   "outputs": [
    {
     "data": {
      "text/plain": [
       "0.5197448026201094"
      ]
     },
     "execution_count": 38,
     "metadata": {},
     "output_type": "execute_result"
    }
   ],
   "source": [
    "def rmse(y, y_pred):\n",
    "    se = (y - y_pred) ** 2\n",
    "    mse = se.mean()\n",
    "    return np.sqrt(mse)\n",
    "\n",
    "\n",
    "r = 0.001\n",
    "X_train = train_df_full.fillna(0).values\n",
    "w0, w = train_linear_regression_reg(X_train, y_train, r=r)\n",
    "y_pred = w0 + X_train.dot(w)\n",
    "score = rmse(y_train, y_pred)\n",
    "score"
   ]
  },
  {
   "cell_type": "code",
   "execution_count": 39,
   "id": "eb0129aa",
   "metadata": {},
   "outputs": [
    {
     "name": "stdout",
     "output_type": "stream",
     "text": [
      "RMSE on the test data set is:  0.515\n"
     ]
    }
   ],
   "source": [
    "#Using Test data\n",
    "\n",
    "def rmse(y, y_pred):\n",
    "    se = (y - y_pred) ** 2\n",
    "    mse = se.mean()\n",
    "    return np.sqrt(mse)\n",
    "\n",
    "\n",
    "r = 0.001\n",
    "X_test = test_df.fillna(0).values\n",
    "w0, w = train_linear_regression_reg(X_test, y_test, r=r)\n",
    "y_pred = w0 + X_test.dot(w)\n",
    "score = round(rmse(y_test, y_pred), 3)\n",
    "print('RMSE on the test data set is: ', score)"
   ]
  },
  {
   "cell_type": "code",
   "execution_count": null,
   "id": "713214ad",
   "metadata": {},
   "outputs": [],
   "source": []
  }
 ],
 "metadata": {
  "kernelspec": {
   "display_name": "Python 3 (ipykernel)",
   "language": "python",
   "name": "python3"
  },
  "language_info": {
   "codemirror_mode": {
    "name": "ipython",
    "version": 3
   },
   "file_extension": ".py",
   "mimetype": "text/x-python",
   "name": "python",
   "nbconvert_exporter": "python",
   "pygments_lexer": "ipython3",
   "version": "3.9.7"
  }
 },
 "nbformat": 4,
 "nbformat_minor": 5
}
