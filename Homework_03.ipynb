{
 "cells": [
  {
   "cell_type": "markdown",
   "id": "03f1e50c",
   "metadata": {},
   "source": [
    "## Import libraries and load data\n"
   ]
  },
  {
   "cell_type": "code",
   "execution_count": 1,
   "id": "4a7e301b",
   "metadata": {
    "ExecuteTime": {
     "end_time": "2025-10-17T15:40:06.019119Z",
     "start_time": "2025-10-17T15:40:01.505081Z"
    }
   },
   "outputs": [],
   "source": [
    "import pandas as pd\n",
    "import numpy as np\n",
    "import matplotlib.pyplot as plt"
   ]
  },
  {
   "cell_type": "code",
   "execution_count": 2,
   "id": "d912c2ef",
   "metadata": {
    "ExecuteTime": {
     "end_time": "2025-10-17T15:40:06.127622Z",
     "start_time": "2025-10-17T15:40:06.024760Z"
    }
   },
   "outputs": [
    {
     "data": {
      "text/html": [
       "<div>\n",
       "<style scoped>\n",
       "    .dataframe tbody tr th:only-of-type {\n",
       "        vertical-align: middle;\n",
       "    }\n",
       "\n",
       "    .dataframe tbody tr th {\n",
       "        vertical-align: top;\n",
       "    }\n",
       "\n",
       "    .dataframe thead th {\n",
       "        text-align: right;\n",
       "    }\n",
       "</style>\n",
       "<table border=\"1\" class=\"dataframe\">\n",
       "  <thead>\n",
       "    <tr style=\"text-align: right;\">\n",
       "      <th></th>\n",
       "      <th>lead_source</th>\n",
       "      <th>industry</th>\n",
       "      <th>number_of_courses_viewed</th>\n",
       "      <th>annual_income</th>\n",
       "      <th>employment_status</th>\n",
       "      <th>location</th>\n",
       "      <th>interaction_count</th>\n",
       "      <th>lead_score</th>\n",
       "      <th>converted</th>\n",
       "    </tr>\n",
       "  </thead>\n",
       "  <tbody>\n",
       "    <tr>\n",
       "      <th>0</th>\n",
       "      <td>paid_ads</td>\n",
       "      <td>NaN</td>\n",
       "      <td>1</td>\n",
       "      <td>79450.0</td>\n",
       "      <td>unemployed</td>\n",
       "      <td>south_america</td>\n",
       "      <td>4</td>\n",
       "      <td>0.94</td>\n",
       "      <td>1</td>\n",
       "    </tr>\n",
       "    <tr>\n",
       "      <th>1</th>\n",
       "      <td>social_media</td>\n",
       "      <td>retail</td>\n",
       "      <td>1</td>\n",
       "      <td>46992.0</td>\n",
       "      <td>employed</td>\n",
       "      <td>south_america</td>\n",
       "      <td>1</td>\n",
       "      <td>0.80</td>\n",
       "      <td>0</td>\n",
       "    </tr>\n",
       "    <tr>\n",
       "      <th>2</th>\n",
       "      <td>events</td>\n",
       "      <td>healthcare</td>\n",
       "      <td>5</td>\n",
       "      <td>78796.0</td>\n",
       "      <td>unemployed</td>\n",
       "      <td>australia</td>\n",
       "      <td>3</td>\n",
       "      <td>0.69</td>\n",
       "      <td>1</td>\n",
       "    </tr>\n",
       "    <tr>\n",
       "      <th>3</th>\n",
       "      <td>paid_ads</td>\n",
       "      <td>retail</td>\n",
       "      <td>2</td>\n",
       "      <td>83843.0</td>\n",
       "      <td>NaN</td>\n",
       "      <td>australia</td>\n",
       "      <td>1</td>\n",
       "      <td>0.87</td>\n",
       "      <td>0</td>\n",
       "    </tr>\n",
       "    <tr>\n",
       "      <th>4</th>\n",
       "      <td>referral</td>\n",
       "      <td>education</td>\n",
       "      <td>3</td>\n",
       "      <td>85012.0</td>\n",
       "      <td>self_employed</td>\n",
       "      <td>europe</td>\n",
       "      <td>3</td>\n",
       "      <td>0.62</td>\n",
       "      <td>1</td>\n",
       "    </tr>\n",
       "  </tbody>\n",
       "</table>\n",
       "</div>"
      ],
      "text/plain": [
       "    lead_source    industry  number_of_courses_viewed  annual_income  \\\n",
       "0      paid_ads         NaN                         1        79450.0   \n",
       "1  social_media      retail                         1        46992.0   \n",
       "2        events  healthcare                         5        78796.0   \n",
       "3      paid_ads      retail                         2        83843.0   \n",
       "4      referral   education                         3        85012.0   \n",
       "\n",
       "  employment_status       location  interaction_count  lead_score  converted  \n",
       "0        unemployed  south_america                  4        0.94          1  \n",
       "1          employed  south_america                  1        0.80          0  \n",
       "2        unemployed      australia                  3        0.69          1  \n",
       "3               NaN      australia                  1        0.87          0  \n",
       "4     self_employed         europe                  3        0.62          1  "
      ]
     },
     "execution_count": 2,
     "metadata": {},
     "output_type": "execute_result"
    }
   ],
   "source": [
    "df = pd.read_csv(\"course_lead_scoring.csv\")\n",
    "df.head()"
   ]
  },
  {
   "cell_type": "markdown",
   "id": "ea49627c",
   "metadata": {
    "ExecuteTime": {
     "end_time": "2025-10-15T21:15:04.913263Z",
     "start_time": "2025-10-15T21:15:04.880924Z"
    }
   },
   "source": [
    "## Data Preparation"
   ]
  },
  {
   "cell_type": "code",
   "execution_count": 3,
   "id": "d8096b95",
   "metadata": {
    "ExecuteTime": {
     "end_time": "2025-10-17T15:40:06.178803Z",
     "start_time": "2025-10-17T15:40:06.138826Z"
    }
   },
   "outputs": [
    {
     "name": "stdout",
     "output_type": "stream",
     "text": [
      "<class 'pandas.core.frame.DataFrame'>\n",
      "RangeIndex: 1462 entries, 0 to 1461\n",
      "Data columns (total 9 columns):\n",
      " #   Column                    Non-Null Count  Dtype  \n",
      "---  ------                    --------------  -----  \n",
      " 0   lead_source               1334 non-null   object \n",
      " 1   industry                  1328 non-null   object \n",
      " 2   number_of_courses_viewed  1462 non-null   int64  \n",
      " 3   annual_income             1281 non-null   float64\n",
      " 4   employment_status         1362 non-null   object \n",
      " 5   location                  1399 non-null   object \n",
      " 6   interaction_count         1462 non-null   int64  \n",
      " 7   lead_score                1462 non-null   float64\n",
      " 8   converted                 1462 non-null   int64  \n",
      "dtypes: float64(2), int64(3), object(4)\n",
      "memory usage: 102.9+ KB\n"
     ]
    }
   ],
   "source": [
    "df.info()"
   ]
  },
  {
   "cell_type": "code",
   "execution_count": 4,
   "id": "18a9fdf0",
   "metadata": {
    "ExecuteTime": {
     "end_time": "2025-10-17T15:40:06.202634Z",
     "start_time": "2025-10-17T15:40:06.182196Z"
    }
   },
   "outputs": [
    {
     "data": {
      "text/plain": [
       "Index(['lead_source', 'industry', 'employment_status', 'location'], dtype='object')"
      ]
     },
     "execution_count": 4,
     "metadata": {},
     "output_type": "execute_result"
    }
   ],
   "source": [
    "df.dtypes[df.dtypes == 'object'].index"
   ]
  },
  {
   "cell_type": "code",
   "execution_count": 5,
   "id": "9e7c7b9c",
   "metadata": {
    "ExecuteTime": {
     "end_time": "2025-10-17T15:40:06.218601Z",
     "start_time": "2025-10-17T15:40:06.206175Z"
    }
   },
   "outputs": [],
   "source": [
    "categorical = ['lead_source', 'industry', 'employment_status', 'location']"
   ]
  },
  {
   "cell_type": "code",
   "execution_count": 6,
   "id": "98ada714",
   "metadata": {
    "ExecuteTime": {
     "end_time": "2025-10-17T15:40:06.235652Z",
     "start_time": "2025-10-17T15:40:06.220115Z"
    }
   },
   "outputs": [],
   "source": [
    "numerical = ['number_of_courses_viewed', 'annual_income', 'interaction_count', 'lead_score']"
   ]
  },
  {
   "cell_type": "code",
   "execution_count": 7,
   "id": "918b76a1",
   "metadata": {
    "ExecuteTime": {
     "end_time": "2025-10-17T15:40:06.279242Z",
     "start_time": "2025-10-17T15:40:06.241142Z"
    }
   },
   "outputs": [
    {
     "data": {
      "text/plain": [
       "lead_source          0\n",
       "industry             0\n",
       "employment_status    0\n",
       "location             0\n",
       "dtype: int64"
      ]
     },
     "execution_count": 7,
     "metadata": {},
     "output_type": "execute_result"
    }
   ],
   "source": [
    "df[categorical] = df[categorical].fillna('NA')\n",
    "df[categorical].isnull().sum()"
   ]
  },
  {
   "cell_type": "code",
   "execution_count": 8,
   "id": "320db2aa",
   "metadata": {
    "ExecuteTime": {
     "end_time": "2025-10-17T15:40:06.318322Z",
     "start_time": "2025-10-17T15:40:06.282557Z"
    }
   },
   "outputs": [
    {
     "data": {
      "text/plain": [
       "number_of_courses_viewed    0\n",
       "annual_income               0\n",
       "interaction_count           0\n",
       "lead_score                  0\n",
       "dtype: int64"
      ]
     },
     "execution_count": 8,
     "metadata": {},
     "output_type": "execute_result"
    }
   ],
   "source": [
    "df[numerical] = df[numerical].fillna(0.0)\n",
    "df[numerical].isnull().sum()"
   ]
  },
  {
   "cell_type": "markdown",
   "id": "c175f006",
   "metadata": {},
   "source": [
    "## Question 1\n",
    "\n",
    "What is the most frequent observation (mode) for the column industry?"
   ]
  },
  {
   "cell_type": "code",
   "execution_count": 9,
   "id": "ccb4b03b",
   "metadata": {
    "ExecuteTime": {
     "end_time": "2025-10-17T15:40:06.344412Z",
     "start_time": "2025-10-17T15:40:06.318322Z"
    }
   },
   "outputs": [
    {
     "data": {
      "text/plain": [
       "'retail'"
      ]
     },
     "execution_count": 9,
     "metadata": {},
     "output_type": "execute_result"
    }
   ],
   "source": [
    "df.industry.value_counts(ascending=False).index[0]"
   ]
  },
  {
   "cell_type": "markdown",
   "id": "ed479eba",
   "metadata": {},
   "source": [
    "## Question 2\n",
    "\n",
    "Create the correlation matrix for the numerical features of your dataset. In a correlation matrix, you compute the correlation coefficient between every pair of features.\n",
    "\n",
    "What are the two features that have the biggest correlation?"
   ]
  },
  {
   "cell_type": "code",
   "execution_count": 10,
   "id": "129e9ca7",
   "metadata": {
    "ExecuteTime": {
     "end_time": "2025-10-17T15:40:06.391232Z",
     "start_time": "2025-10-17T15:40:06.346330Z"
    },
    "scrolled": true
   },
   "outputs": [
    {
     "data": {
      "text/html": [
       "<div>\n",
       "<style scoped>\n",
       "    .dataframe tbody tr th:only-of-type {\n",
       "        vertical-align: middle;\n",
       "    }\n",
       "\n",
       "    .dataframe tbody tr th {\n",
       "        vertical-align: top;\n",
       "    }\n",
       "\n",
       "    .dataframe thead th {\n",
       "        text-align: right;\n",
       "    }\n",
       "</style>\n",
       "<table border=\"1\" class=\"dataframe\">\n",
       "  <thead>\n",
       "    <tr style=\"text-align: right;\">\n",
       "      <th></th>\n",
       "      <th>number_of_courses_viewed</th>\n",
       "      <th>annual_income</th>\n",
       "      <th>interaction_count</th>\n",
       "      <th>lead_score</th>\n",
       "    </tr>\n",
       "  </thead>\n",
       "  <tbody>\n",
       "    <tr>\n",
       "      <th>number_of_courses_viewed</th>\n",
       "      <td>1.000000</td>\n",
       "      <td>0.009770</td>\n",
       "      <td>-0.023565</td>\n",
       "      <td>-0.004879</td>\n",
       "    </tr>\n",
       "    <tr>\n",
       "      <th>annual_income</th>\n",
       "      <td>0.009770</td>\n",
       "      <td>1.000000</td>\n",
       "      <td>0.027036</td>\n",
       "      <td>0.015610</td>\n",
       "    </tr>\n",
       "    <tr>\n",
       "      <th>interaction_count</th>\n",
       "      <td>-0.023565</td>\n",
       "      <td>0.027036</td>\n",
       "      <td>1.000000</td>\n",
       "      <td>0.009888</td>\n",
       "    </tr>\n",
       "    <tr>\n",
       "      <th>lead_score</th>\n",
       "      <td>-0.004879</td>\n",
       "      <td>0.015610</td>\n",
       "      <td>0.009888</td>\n",
       "      <td>1.000000</td>\n",
       "    </tr>\n",
       "  </tbody>\n",
       "</table>\n",
       "</div>"
      ],
      "text/plain": [
       "                          number_of_courses_viewed  annual_income  \\\n",
       "number_of_courses_viewed                  1.000000       0.009770   \n",
       "annual_income                             0.009770       1.000000   \n",
       "interaction_count                        -0.023565       0.027036   \n",
       "lead_score                               -0.004879       0.015610   \n",
       "\n",
       "                          interaction_count  lead_score  \n",
       "number_of_courses_viewed          -0.023565   -0.004879  \n",
       "annual_income                      0.027036    0.015610  \n",
       "interaction_count                  1.000000    0.009888  \n",
       "lead_score                         0.009888    1.000000  "
      ]
     },
     "execution_count": 10,
     "metadata": {},
     "output_type": "execute_result"
    }
   ],
   "source": [
    "correlation_matrix = df[numerical].corr()\n",
    "correlation_matrix"
   ]
  },
  {
   "cell_type": "code",
   "execution_count": 11,
   "id": "bb114a8d",
   "metadata": {
    "ExecuteTime": {
     "end_time": "2025-10-17T15:40:08.180893Z",
     "start_time": "2025-10-17T15:40:06.399347Z"
    }
   },
   "outputs": [],
   "source": [
    "#Splitting the data\n",
    "\n",
    "from sklearn.model_selection import train_test_split "
   ]
  },
  {
   "cell_type": "code",
   "execution_count": 12,
   "id": "43eddb84",
   "metadata": {
    "ExecuteTime": {
     "end_time": "2025-10-17T15:40:08.214264Z",
     "start_time": "2025-10-17T15:40:08.184518Z"
    }
   },
   "outputs": [],
   "source": [
    "df_train_full, df_test = train_test_split(df, test_size = 0.2, random_state = 42)"
   ]
  },
  {
   "cell_type": "code",
   "execution_count": 13,
   "id": "531c21e3",
   "metadata": {
    "ExecuteTime": {
     "end_time": "2025-10-17T15:40:08.239494Z",
     "start_time": "2025-10-17T15:40:08.219623Z"
    }
   },
   "outputs": [],
   "source": [
    "df_train, df_val  = train_test_split(df_train_full, test_size = 0.25, random_state = 42)"
   ]
  },
  {
   "cell_type": "code",
   "execution_count": 14,
   "id": "9605d741",
   "metadata": {
    "ExecuteTime": {
     "end_time": "2025-10-17T15:40:08.260313Z",
     "start_time": "2025-10-17T15:40:08.239494Z"
    }
   },
   "outputs": [
    {
     "data": {
      "text/plain": [
       "(876, 293, 293)"
      ]
     },
     "execution_count": 14,
     "metadata": {},
     "output_type": "execute_result"
    }
   ],
   "source": [
    "len(df_train), len(df_val), len(df_test)"
   ]
  },
  {
   "cell_type": "code",
   "execution_count": 15,
   "id": "d7719b56",
   "metadata": {
    "ExecuteTime": {
     "end_time": "2025-10-17T15:40:08.289601Z",
     "start_time": "2025-10-17T15:40:08.261370Z"
    }
   },
   "outputs": [],
   "source": [
    "df_train = df_train.reset_index(drop=True)\n",
    "df_val = df_val.reset_index(drop=True)\n",
    "df_test = df_test.reset_index(drop=True)"
   ]
  },
  {
   "cell_type": "code",
   "execution_count": 16,
   "id": "33b83cac",
   "metadata": {
    "ExecuteTime": {
     "end_time": "2025-10-17T15:40:08.323168Z",
     "start_time": "2025-10-17T15:40:08.294984Z"
    }
   },
   "outputs": [],
   "source": [
    "y_train = df_train.converted.values\n",
    "y_val = df_val.converted.values\n",
    "y_test = df_test.converted.values"
   ]
  },
  {
   "cell_type": "code",
   "execution_count": 17,
   "id": "b1c09201",
   "metadata": {
    "ExecuteTime": {
     "end_time": "2025-10-17T15:40:08.339072Z",
     "start_time": "2025-10-17T15:40:08.327206Z"
    }
   },
   "outputs": [],
   "source": [
    "del df_train['converted']\n",
    "del df_val['converted']\n",
    "del df_test['converted'] "
   ]
  },
  {
   "cell_type": "code",
   "execution_count": 18,
   "id": "33649fdd",
   "metadata": {
    "ExecuteTime": {
     "end_time": "2025-10-17T15:40:08.399029Z",
     "start_time": "2025-10-17T15:40:08.344322Z"
    }
   },
   "outputs": [
    {
     "data": {
      "text/html": [
       "<div>\n",
       "<style scoped>\n",
       "    .dataframe tbody tr th:only-of-type {\n",
       "        vertical-align: middle;\n",
       "    }\n",
       "\n",
       "    .dataframe tbody tr th {\n",
       "        vertical-align: top;\n",
       "    }\n",
       "\n",
       "    .dataframe thead th {\n",
       "        text-align: right;\n",
       "    }\n",
       "</style>\n",
       "<table border=\"1\" class=\"dataframe\">\n",
       "  <thead>\n",
       "    <tr style=\"text-align: right;\">\n",
       "      <th></th>\n",
       "      <th>lead_source</th>\n",
       "      <th>industry</th>\n",
       "      <th>number_of_courses_viewed</th>\n",
       "      <th>annual_income</th>\n",
       "      <th>employment_status</th>\n",
       "      <th>location</th>\n",
       "      <th>interaction_count</th>\n",
       "      <th>lead_score</th>\n",
       "      <th>converted</th>\n",
       "    </tr>\n",
       "  </thead>\n",
       "  <tbody>\n",
       "    <tr>\n",
       "      <th>1066</th>\n",
       "      <td>social_media</td>\n",
       "      <td>manufacturing</td>\n",
       "      <td>2</td>\n",
       "      <td>44403.0</td>\n",
       "      <td>self_employed</td>\n",
       "      <td>australia</td>\n",
       "      <td>1</td>\n",
       "      <td>0.71</td>\n",
       "      <td>0</td>\n",
       "    </tr>\n",
       "    <tr>\n",
       "      <th>638</th>\n",
       "      <td>events</td>\n",
       "      <td>retail</td>\n",
       "      <td>3</td>\n",
       "      <td>38048.0</td>\n",
       "      <td>student</td>\n",
       "      <td>north_america</td>\n",
       "      <td>6</td>\n",
       "      <td>0.97</td>\n",
       "      <td>1</td>\n",
       "    </tr>\n",
       "    <tr>\n",
       "      <th>799</th>\n",
       "      <td>social_media</td>\n",
       "      <td>education</td>\n",
       "      <td>2</td>\n",
       "      <td>71399.0</td>\n",
       "      <td>NA</td>\n",
       "      <td>europe</td>\n",
       "      <td>1</td>\n",
       "      <td>0.51</td>\n",
       "      <td>1</td>\n",
       "    </tr>\n",
       "    <tr>\n",
       "      <th>380</th>\n",
       "      <td>referral</td>\n",
       "      <td>education</td>\n",
       "      <td>2</td>\n",
       "      <td>47912.0</td>\n",
       "      <td>employed</td>\n",
       "      <td>australia</td>\n",
       "      <td>1</td>\n",
       "      <td>0.04</td>\n",
       "      <td>0</td>\n",
       "    </tr>\n",
       "    <tr>\n",
       "      <th>303</th>\n",
       "      <td>paid_ads</td>\n",
       "      <td>healthcare</td>\n",
       "      <td>1</td>\n",
       "      <td>34806.0</td>\n",
       "      <td>employed</td>\n",
       "      <td>europe</td>\n",
       "      <td>4</td>\n",
       "      <td>0.32</td>\n",
       "      <td>1</td>\n",
       "    </tr>\n",
       "    <tr>\n",
       "      <th>...</th>\n",
       "      <td>...</td>\n",
       "      <td>...</td>\n",
       "      <td>...</td>\n",
       "      <td>...</td>\n",
       "      <td>...</td>\n",
       "      <td>...</td>\n",
       "      <td>...</td>\n",
       "      <td>...</td>\n",
       "      <td>...</td>\n",
       "    </tr>\n",
       "    <tr>\n",
       "      <th>1130</th>\n",
       "      <td>events</td>\n",
       "      <td>manufacturing</td>\n",
       "      <td>1</td>\n",
       "      <td>57039.0</td>\n",
       "      <td>employed</td>\n",
       "      <td>south_america</td>\n",
       "      <td>2</td>\n",
       "      <td>0.30</td>\n",
       "      <td>0</td>\n",
       "    </tr>\n",
       "    <tr>\n",
       "      <th>1294</th>\n",
       "      <td>events</td>\n",
       "      <td>healthcare</td>\n",
       "      <td>2</td>\n",
       "      <td>56185.0</td>\n",
       "      <td>student</td>\n",
       "      <td>south_america</td>\n",
       "      <td>2</td>\n",
       "      <td>0.44</td>\n",
       "      <td>0</td>\n",
       "    </tr>\n",
       "    <tr>\n",
       "      <th>860</th>\n",
       "      <td>paid_ads</td>\n",
       "      <td>manufacturing</td>\n",
       "      <td>1</td>\n",
       "      <td>56402.0</td>\n",
       "      <td>student</td>\n",
       "      <td>north_america</td>\n",
       "      <td>1</td>\n",
       "      <td>0.02</td>\n",
       "      <td>0</td>\n",
       "    </tr>\n",
       "    <tr>\n",
       "      <th>1459</th>\n",
       "      <td>paid_ads</td>\n",
       "      <td>technology</td>\n",
       "      <td>1</td>\n",
       "      <td>45688.0</td>\n",
       "      <td>student</td>\n",
       "      <td>north_america</td>\n",
       "      <td>3</td>\n",
       "      <td>0.02</td>\n",
       "      <td>1</td>\n",
       "    </tr>\n",
       "    <tr>\n",
       "      <th>1126</th>\n",
       "      <td>events</td>\n",
       "      <td>manufacturing</td>\n",
       "      <td>0</td>\n",
       "      <td>43862.0</td>\n",
       "      <td>self_employed</td>\n",
       "      <td>asia</td>\n",
       "      <td>4</td>\n",
       "      <td>0.21</td>\n",
       "      <td>0</td>\n",
       "    </tr>\n",
       "  </tbody>\n",
       "</table>\n",
       "<p>1169 rows × 9 columns</p>\n",
       "</div>"
      ],
      "text/plain": [
       "       lead_source       industry  number_of_courses_viewed  annual_income  \\\n",
       "1066  social_media  manufacturing                         2        44403.0   \n",
       "638         events         retail                         3        38048.0   \n",
       "799   social_media      education                         2        71399.0   \n",
       "380       referral      education                         2        47912.0   \n",
       "303       paid_ads     healthcare                         1        34806.0   \n",
       "...            ...            ...                       ...            ...   \n",
       "1130        events  manufacturing                         1        57039.0   \n",
       "1294        events     healthcare                         2        56185.0   \n",
       "860       paid_ads  manufacturing                         1        56402.0   \n",
       "1459      paid_ads     technology                         1        45688.0   \n",
       "1126        events  manufacturing                         0        43862.0   \n",
       "\n",
       "     employment_status       location  interaction_count  lead_score  \\\n",
       "1066     self_employed      australia                  1        0.71   \n",
       "638            student  north_america                  6        0.97   \n",
       "799                 NA         europe                  1        0.51   \n",
       "380           employed      australia                  1        0.04   \n",
       "303           employed         europe                  4        0.32   \n",
       "...                ...            ...                ...         ...   \n",
       "1130          employed  south_america                  2        0.30   \n",
       "1294           student  south_america                  2        0.44   \n",
       "860            student  north_america                  1        0.02   \n",
       "1459           student  north_america                  3        0.02   \n",
       "1126     self_employed           asia                  4        0.21   \n",
       "\n",
       "      converted  \n",
       "1066          0  \n",
       "638           1  \n",
       "799           1  \n",
       "380           0  \n",
       "303           1  \n",
       "...         ...  \n",
       "1130          0  \n",
       "1294          0  \n",
       "860           0  \n",
       "1459          1  \n",
       "1126          0  \n",
       "\n",
       "[1169 rows x 9 columns]"
      ]
     },
     "execution_count": 18,
     "metadata": {},
     "output_type": "execute_result"
    }
   ],
   "source": [
    "df_train_full"
   ]
  },
  {
   "cell_type": "markdown",
   "id": "5729eaab",
   "metadata": {},
   "source": [
    "## Question 3\n",
    "\n",
    "* Calculate the mutual information score between converted and other categorical variables in the dataset. Use the training set only.\n",
    "\n",
    "* Round the scores to 2 decimals using round(score, 2)."
   ]
  },
  {
   "cell_type": "code",
   "execution_count": 19,
   "id": "555935e5",
   "metadata": {
    "ExecuteTime": {
     "end_time": "2025-10-17T15:40:08.410404Z",
     "start_time": "2025-10-17T15:40:08.402186Z"
    }
   },
   "outputs": [],
   "source": [
    "from sklearn.metrics import mutual_info_score"
   ]
  },
  {
   "cell_type": "code",
   "execution_count": 24,
   "id": "d677305b",
   "metadata": {
    "ExecuteTime": {
     "end_time": "2025-10-17T15:40:08.545031Z",
     "start_time": "2025-10-17T15:40:08.532368Z"
    }
   },
   "outputs": [],
   "source": [
    "def mutual_info_converted_score(series):\n",
    "    return mutual_info_score(series, df_train_full.converted)"
   ]
  },
  {
   "cell_type": "code",
   "execution_count": 25,
   "id": "ed597eed",
   "metadata": {
    "ExecuteTime": {
     "end_time": "2025-10-17T15:40:08.590312Z",
     "start_time": "2025-10-17T15:40:08.549141Z"
    }
   },
   "outputs": [
    {
     "data": {
      "text/plain": [
       "lead_source          0.03\n",
       "employment_status    0.01\n",
       "industry             0.01\n",
       "location             0.00\n",
       "dtype: float64"
      ]
     },
     "execution_count": 25,
     "metadata": {},
     "output_type": "execute_result"
    }
   ],
   "source": [
    "mi = df_train_full[categorical].apply(mutual_info_converted_score)\n",
    "round(mi.sort_values(ascending=False), 2)"
   ]
  },
  {
   "cell_type": "markdown",
   "id": "05c7f2e9",
   "metadata": {},
   "source": [
    "## Question 4\n",
    "\n",
    "* Remember that we have several categorical variables in the dataset. Include them using one-hot encoding.\n",
    "* Fit the model on the training dataset.\n",
    " To make sure the results are reproducible across different versions of Scikit-Learn, fit the model with these parameters:\n",
    " model = LogisticRegression(solver='liblinear', C=1.0, max_iter=1000, random_state=42)\n",
    "\n",
    "* Calculate the accuracy on the validation dataset and round it to 2 decimal digits."
   ]
  },
  {
   "cell_type": "code",
   "execution_count": 26,
   "id": "61db4a92",
   "metadata": {
    "ExecuteTime": {
     "end_time": "2025-10-17T15:40:08.620764Z",
     "start_time": "2025-10-17T15:40:08.593327Z"
    }
   },
   "outputs": [],
   "source": [
    " from sklearn.feature_extraction import DictVectorizer"
   ]
  },
  {
   "cell_type": "code",
   "execution_count": 27,
   "id": "61929c26",
   "metadata": {
    "ExecuteTime": {
     "end_time": "2025-10-17T15:40:08.657918Z",
     "start_time": "2025-10-17T15:40:08.622417Z"
    }
   },
   "outputs": [],
   "source": [
    "train_dicts = df_train[categorical + numerical].to_dict(orient='records')"
   ]
  },
  {
   "cell_type": "code",
   "execution_count": 28,
   "id": "5eaf0837",
   "metadata": {
    "ExecuteTime": {
     "end_time": "2025-10-17T15:40:08.682309Z",
     "start_time": "2025-10-17T15:40:08.663308Z"
    }
   },
   "outputs": [],
   "source": [
    "dv = DictVectorizer(sparse=False)"
   ]
  },
  {
   "cell_type": "code",
   "execution_count": 29,
   "id": "4ea8510e",
   "metadata": {
    "ExecuteTime": {
     "end_time": "2025-10-17T15:40:08.725784Z",
     "start_time": "2025-10-17T15:40:08.686394Z"
    }
   },
   "outputs": [],
   "source": [
    "X_train = dv.fit_transform(train_dicts)"
   ]
  },
  {
   "cell_type": "code",
   "execution_count": 30,
   "id": "0b28e1d1",
   "metadata": {
    "ExecuteTime": {
     "end_time": "2025-10-17T15:40:08.750194Z",
     "start_time": "2025-10-17T15:40:08.727940Z"
    }
   },
   "outputs": [],
   "source": [
    "val_dicts = df_val[categorical + numerical].to_dict(orient='records')"
   ]
  },
  {
   "cell_type": "code",
   "execution_count": 31,
   "id": "6c571815",
   "metadata": {
    "ExecuteTime": {
     "end_time": "2025-10-17T15:40:08.769792Z",
     "start_time": "2025-10-17T15:40:08.753069Z"
    }
   },
   "outputs": [],
   "source": [
    "X_val = dv.transform(val_dicts)"
   ]
  },
  {
   "cell_type": "code",
   "execution_count": 32,
   "id": "da76b4da",
   "metadata": {
    "ExecuteTime": {
     "end_time": "2025-10-17T15:40:08.933249Z",
     "start_time": "2025-10-17T15:40:08.774135Z"
    }
   },
   "outputs": [
    {
     "data": {
      "text/plain": [
       "LogisticRegression(max_iter=1000, random_state=42, solver='liblinear')"
      ]
     },
     "execution_count": 32,
     "metadata": {},
     "output_type": "execute_result"
    }
   ],
   "source": [
    "#Fitting the LR model\n",
    "from sklearn.linear_model import LogisticRegression\n",
    "\n",
    "model = LogisticRegression(solver='liblinear', C=1.0, max_iter=1000, random_state=42)\n",
    "model.fit(X_train, y_train)"
   ]
  },
  {
   "cell_type": "code",
   "execution_count": 33,
   "id": "d30e067b",
   "metadata": {
    "ExecuteTime": {
     "end_time": "2025-10-17T15:40:08.949924Z",
     "start_time": "2025-10-17T15:40:08.933249Z"
    }
   },
   "outputs": [
    {
     "data": {
      "text/plain": [
       "-0.0691472802783413"
      ]
     },
     "execution_count": 33,
     "metadata": {},
     "output_type": "execute_result"
    }
   ],
   "source": [
    "model.intercept_[0]"
   ]
  },
  {
   "cell_type": "code",
   "execution_count": 34,
   "id": "dff30f1c",
   "metadata": {
    "ExecuteTime": {
     "end_time": "2025-10-17T15:40:08.974791Z",
     "start_time": "2025-10-17T15:40:08.954513Z"
    }
   },
   "outputs": [
    {
     "data": {
      "text/plain": [
       "array([-1.77843866e-05, -1.47154423e-02,  3.39095225e-02,  2.66248432e-03,\n",
       "        1.15238518e-02, -1.02527697e-01, -2.48510995e-02,  4.93604222e-02,\n",
       "       -2.01258344e-02, -1.34214865e-02, -3.00232200e-03, -9.25991830e-03,\n",
       "       -3.17957304e-02, -1.60513114e-02,  3.11339155e-01,  5.12012528e-02,\n",
       "        2.01511698e-02, -1.20346284e-02, -1.16021521e-02, -1.15251880e-01,\n",
       "        7.95303436e-02, -2.99401329e-02,  3.95843295e-03, -1.14296944e-02,\n",
       "       -1.12457415e-02, -5.59987025e-03,  8.26402635e-03,  5.58598769e-03,\n",
       "       -3.33967159e-02, -2.52837052e-02,  4.53752887e-01])"
      ]
     },
     "execution_count": 34,
     "metadata": {},
     "output_type": "execute_result"
    }
   ],
   "source": [
    "model.coef_[0]"
   ]
  },
  {
   "cell_type": "code",
   "execution_count": 35,
   "id": "a2b5f8cc",
   "metadata": {
    "ExecuteTime": {
     "end_time": "2025-10-17T15:40:09.058282Z",
     "start_time": "2025-10-17T15:40:08.985110Z"
    },
    "scrolled": true
   },
   "outputs": [
    {
     "data": {
      "text/plain": [
       "array([0.61192163, 0.79982617, 0.53021344, 0.47131479, 0.57066132,\n",
       "       0.44227169, 0.87127669, 0.84883115, 0.83290038, 0.61497802,\n",
       "       0.54968027, 0.78153088, 0.69039786, 0.77017122, 0.52659441,\n",
       "       0.91706425, 0.53170635, 0.42123049, 0.30146455, 0.84881583,\n",
       "       0.79488653, 0.73670375, 0.44527211, 0.64838383, 0.4176882 ,\n",
       "       0.75393418, 0.90166116, 0.33903049, 0.43181431, 0.9680681 ,\n",
       "       0.92018714, 0.37487989, 0.652301  , 0.90650057, 0.75164117,\n",
       "       0.64202121, 0.82250075, 0.83375553, 0.659116  , 0.30978854,\n",
       "       0.78942264, 0.35546366, 0.96517758, 0.63389304, 0.51274195,\n",
       "       0.53230534, 0.82287785, 0.744074  , 0.73452314, 0.68955217,\n",
       "       0.46964443, 0.84539252, 0.55635244, 0.92637871, 0.65258021,\n",
       "       0.61526273, 0.63816996, 0.28304018, 0.48049824, 0.57890618,\n",
       "       0.35497342, 0.62175051, 0.38960778, 0.61156056, 0.85304278,\n",
       "       0.75430136, 0.89185954, 0.71946459, 0.95387623, 0.89209517,\n",
       "       0.75277088, 0.33850139, 0.61376593, 0.51622275, 0.64088938,\n",
       "       0.75978331, 0.89312076, 0.78234592, 0.57477802, 0.5230894 ,\n",
       "       0.75162464, 0.45636646, 0.81579586, 0.79382273, 0.62186002,\n",
       "       0.38948447, 0.92007346, 0.79436152, 0.61193788, 0.92647559,\n",
       "       0.7532528 , 0.57044193, 0.60565302, 0.76845366, 0.38660133,\n",
       "       0.93682835, 0.61558548, 0.7075394 , 0.71522011, 0.71516419,\n",
       "       0.44374301, 0.48499556, 0.67041978, 0.70904815, 0.82122296,\n",
       "       0.79831792, 0.67657162, 0.59618167, 0.89175506, 0.60625291,\n",
       "       0.89674478, 0.69110012, 0.51519179, 0.4534051 , 0.63343365,\n",
       "       0.44558105, 0.66397066, 0.43666539, 0.69973632, 0.86966748,\n",
       "       0.40270565, 0.51017111, 0.62044177, 0.49161764, 0.69763127,\n",
       "       0.84622133, 0.40511013, 0.8434733 , 0.58804712, 0.85510615,\n",
       "       0.78815289, 0.80972924, 0.46004387, 0.55454589, 0.710231  ,\n",
       "       0.6149092 , 0.8620587 , 0.80475326, 0.60929426, 0.64441176,\n",
       "       0.55193313, 0.56760374, 0.5189335 , 0.72588229, 0.43004304,\n",
       "       0.23357971, 0.70913055, 0.65040711, 0.94584622, 0.80652896,\n",
       "       0.69385396, 0.84217287, 0.89857224, 0.81893745, 0.52454437,\n",
       "       0.20195451, 0.56625199, 0.68160027, 0.3403019 , 0.80604684,\n",
       "       0.63864617, 0.85564638, 0.68426835, 0.37189509, 0.80873426,\n",
       "       0.83353728, 0.57467065, 0.81205326, 0.89732589, 0.73063987,\n",
       "       0.84500549, 0.68754096, 0.71582287, 0.49433922, 0.97093498,\n",
       "       0.42301876, 0.65465869, 0.50337352, 0.74494469, 0.70435297,\n",
       "       0.42884459, 0.54067721, 0.9170997 , 0.77365808, 0.64111688,\n",
       "       0.79011374, 0.54247837, 0.70202189, 0.72011974, 0.38598603,\n",
       "       0.6959215 , 0.76405477, 0.65126882, 0.63900214, 0.60765874,\n",
       "       0.42556846, 0.61605736, 0.63253075, 0.7213222 , 0.8476384 ,\n",
       "       0.95845895, 0.72579398, 0.66273041, 0.63394997, 0.69328103,\n",
       "       0.60818049, 0.88179594, 0.50955311, 0.88148588, 0.78572171,\n",
       "       0.69259702, 0.68330629, 0.71612897, 0.89014221, 0.61044279,\n",
       "       0.68285388, 0.79608345, 0.47246864, 0.47659122, 0.76818506,\n",
       "       0.43447286, 0.70724524, 0.36109338, 0.57938901, 0.73605298,\n",
       "       0.76649051, 0.75111501, 0.62857192, 0.22737562, 0.47678569,\n",
       "       0.53883901, 0.86006692, 0.37612697, 0.6394794 , 0.7521956 ,\n",
       "       0.80887336, 0.31111035, 0.61636051, 0.90794031, 0.72784109,\n",
       "       0.78162752, 0.56678099, 0.74946254, 0.7027016 , 0.86992246,\n",
       "       0.67511883, 0.47335166, 0.69184932, 0.89716906, 0.66349786,\n",
       "       0.46590694, 0.94124351, 0.85630565, 0.56838374, 0.81947659,\n",
       "       0.6680171 , 0.36038828, 0.75894397, 0.77662923, 0.61460369,\n",
       "       0.97723436, 0.61226916, 0.50364538, 0.90815884, 0.69327873,\n",
       "       0.86960168, 0.59804182, 0.41516438, 0.79021628, 0.56825882,\n",
       "       0.33279425, 0.89712235, 0.35000607, 0.61107135, 0.72826373,\n",
       "       0.5497974 , 0.33677257, 0.52340089, 0.67586912, 0.74368437,\n",
       "       0.74362153, 0.43833658, 0.50241572, 0.58146965, 0.71617208,\n",
       "       0.78841886, 0.73323106, 0.85389893, 0.41934248, 0.71053898,\n",
       "       0.41818502, 0.74483516, 0.43291316])"
      ]
     },
     "execution_count": 35,
     "metadata": {},
     "output_type": "execute_result"
    }
   ],
   "source": [
    "y_pred = model.predict_proba(X_val)[:, 1]\n",
    "y_pred"
   ]
  },
  {
   "cell_type": "code",
   "execution_count": 36,
   "id": "8ce61797",
   "metadata": {
    "ExecuteTime": {
     "end_time": "2025-10-17T15:40:09.076813Z",
     "start_time": "2025-10-17T15:40:09.064353Z"
    },
    "code_folding": []
   },
   "outputs": [],
   "source": [
    "#Prediction decision\n",
    "\n",
    "converted_decision = (y_pred >= 0.5)"
   ]
  },
  {
   "cell_type": "code",
   "execution_count": 37,
   "id": "4ae3eb92",
   "metadata": {
    "ExecuteTime": {
     "end_time": "2025-10-17T15:40:09.099240Z",
     "start_time": "2025-10-17T15:40:09.081649Z"
    }
   },
   "outputs": [
    {
     "data": {
      "text/plain": [
       "0.7"
      ]
     },
     "execution_count": 37,
     "metadata": {},
     "output_type": "execute_result"
    }
   ],
   "source": [
    "#model accuracy\n",
    "\n",
    "round((converted_decision ==y_val).mean(), 2)"
   ]
  },
  {
   "cell_type": "markdown",
   "id": "c62d47a0",
   "metadata": {},
   "source": [
    "## Question 5\n",
    "\n",
    "Let's find the least useful feature using the feature elimination technique.\n",
    "\n",
    "Train a model using the same features and parameters as in Q4 (without rounding).\n",
    "\n",
    "Now exclude each feature from this set and train a model without it. Record the accuracy for each model.\n",
    "\n",
    "For each feature, calculate the difference between the original accuracy and the accuracy without the feature."
   ]
  },
  {
   "cell_type": "code",
   "execution_count": 38,
   "id": "5ce00ca4",
   "metadata": {
    "ExecuteTime": {
     "end_time": "2025-10-17T15:40:09.129866Z",
     "start_time": "2025-10-17T15:40:09.100501Z"
    }
   },
   "outputs": [
    {
     "name": "stdout",
     "output_type": "stream",
     "text": [
      "Baseline Accuracy: 0.7385844748858448\n"
     ]
    }
   ],
   "source": [
    "model = LogisticRegression(solver='liblinear', C=1.0, max_iter=1000, random_state=42)\n",
    "model.fit(X_train, y_train)\n",
    "\n",
    "# Baseline accuracy\n",
    "\n",
    "y_pred = model.predict_proba(X_train)[:, 1]\n",
    "converted_decision = (y_pred >= 0.5)\n",
    "baseline_accuracy = (converted_decision ==y_train).mean()\n",
    "print(\"Baseline Accuracy:\", baseline_accuracy)\n"
   ]
  },
  {
   "cell_type": "code",
   "execution_count": 39,
   "id": "19f2ea0f",
   "metadata": {
    "ExecuteTime": {
     "end_time": "2025-10-17T15:40:09.146404Z",
     "start_time": "2025-10-17T15:40:09.131396Z"
    },
    "scrolled": false
   },
   "outputs": [
    {
     "data": {
      "text/plain": [
       "['number_of_courses_viewed',\n",
       " 'annual_income',\n",
       " 'interaction_count',\n",
       " 'lead_score',\n",
       " 'lead_source',\n",
       " 'industry',\n",
       " 'employment_status',\n",
       " 'location']"
      ]
     },
     "execution_count": 39,
     "metadata": {},
     "output_type": "execute_result"
    }
   ],
   "source": [
    "features = numerical + categorical\n",
    "features"
   ]
  },
  {
   "cell_type": "code",
   "execution_count": 40,
   "id": "8574ca11",
   "metadata": {
    "ExecuteTime": {
     "end_time": "2025-10-17T15:40:09.162360Z",
     "start_time": "2025-10-17T15:40:09.148425Z"
    }
   },
   "outputs": [],
   "source": [
    "from IPython.display import display"
   ]
  },
  {
   "cell_type": "code",
   "execution_count": 41,
   "id": "950f6cc5",
   "metadata": {
    "ExecuteTime": {
     "end_time": "2025-10-17T15:40:09.640922Z",
     "start_time": "2025-10-17T15:40:09.162360Z"
    }
   },
   "outputs": [
    {
     "data": {
      "text/plain": [
       "'number_of_courses_viewed'"
      ]
     },
     "metadata": {},
     "output_type": "display_data"
    },
    {
     "data": {
      "text/plain": [
       "0.11529680365296802"
      ]
     },
     "metadata": {},
     "output_type": "display_data"
    },
    {
     "name": "stdout",
     "output_type": "stream",
     "text": [
      "\n",
      "\n"
     ]
    },
    {
     "data": {
      "text/plain": [
       "'annual_income'"
      ]
     },
     "metadata": {},
     "output_type": "display_data"
    },
    {
     "data": {
      "text/plain": [
       "-0.13242009132420085"
      ]
     },
     "metadata": {},
     "output_type": "display_data"
    },
    {
     "name": "stdout",
     "output_type": "stream",
     "text": [
      "\n",
      "\n"
     ]
    },
    {
     "data": {
      "text/plain": [
       "'interaction_count'"
      ]
     },
     "metadata": {},
     "output_type": "display_data"
    },
    {
     "data": {
      "text/plain": [
       "0.113013698630137"
      ]
     },
     "metadata": {},
     "output_type": "display_data"
    },
    {
     "name": "stdout",
     "output_type": "stream",
     "text": [
      "\n",
      "\n"
     ]
    },
    {
     "data": {
      "text/plain": [
       "'lead_score'"
      ]
     },
     "metadata": {},
     "output_type": "display_data"
    },
    {
     "data": {
      "text/plain": [
       "-0.003424657534246589"
      ]
     },
     "metadata": {},
     "output_type": "display_data"
    },
    {
     "name": "stdout",
     "output_type": "stream",
     "text": [
      "\n",
      "\n"
     ]
    },
    {
     "data": {
      "text/plain": [
       "'lead_source'"
      ]
     },
     "metadata": {},
     "output_type": "display_data"
    },
    {
     "data": {
      "text/plain": [
       "-0.003424657534246589"
      ]
     },
     "metadata": {},
     "output_type": "display_data"
    },
    {
     "name": "stdout",
     "output_type": "stream",
     "text": [
      "\n",
      "\n"
     ]
    },
    {
     "data": {
      "text/plain": [
       "'industry'"
      ]
     },
     "metadata": {},
     "output_type": "display_data"
    },
    {
     "data": {
      "text/plain": [
       "-0.0022831050228310223"
      ]
     },
     "metadata": {},
     "output_type": "display_data"
    },
    {
     "name": "stdout",
     "output_type": "stream",
     "text": [
      "\n",
      "\n"
     ]
    },
    {
     "data": {
      "text/plain": [
       "'employment_status'"
      ]
     },
     "metadata": {},
     "output_type": "display_data"
    },
    {
     "data": {
      "text/plain": [
       "0.003424657534246589"
      ]
     },
     "metadata": {},
     "output_type": "display_data"
    },
    {
     "name": "stdout",
     "output_type": "stream",
     "text": [
      "\n",
      "\n"
     ]
    },
    {
     "data": {
      "text/plain": [
       "'location'"
      ]
     },
     "metadata": {},
     "output_type": "display_data"
    },
    {
     "data": {
      "text/plain": [
       "-0.003424657534246589"
      ]
     },
     "metadata": {},
     "output_type": "display_data"
    },
    {
     "name": "stdout",
     "output_type": "stream",
     "text": [
      "\n",
      "\n"
     ]
    }
   ],
   "source": [
    "for feature in features:\n",
    "    reduced_features = [f for f in features if f != feature]\n",
    "    \n",
    "    train_dicts = df_train[reduced_features].to_dict(orient='records')\n",
    "    dv = DictVectorizer(sparse=False)\n",
    "    X_train = dv.fit_transform(train_dicts)\n",
    "    #val_dicts = df_val[reduced_feature].to_dict(orient='records')\n",
    "    #X_val = dv.transform(val_dicts)\n",
    "    \n",
    "    \n",
    "    model = LogisticRegression(solver='liblinear', C=1.0, max_iter=1000, random_state=42)\n",
    "    model.fit(X_train, y_train)\n",
    "    \n",
    "    y_pred = model.predict_proba(X_train)[:, 1]\n",
    "    \n",
    "    converted_decision = (y_pred >= 0.5)\n",
    "    accuracy = (converted_decision ==y_train).mean()\n",
    "    diff = baseline_accuracy - accuracy\n",
    "    #display(reduced_features)\n",
    "    display(feature, diff)\n",
    "    print()\n",
    "    print()"
   ]
  },
  {
   "cell_type": "markdown",
   "id": "44ecef26",
   "metadata": {},
   "source": [
    "## Question 6\n",
    "\n",
    "* Now let's train a regularized logistic regression.\n",
    "* Let's try the following values of the parameter C: [0.01, 0.1, 1, 10, 100].\n",
    "* Train models using all the features as in Q4.\n",
    "* Calculate the accuracy on the validation dataset and round it to 3 decimal digits."
   ]
  },
  {
   "cell_type": "code",
   "execution_count": 44,
   "id": "9529e2dc",
   "metadata": {
    "ExecuteTime": {
     "end_time": "2025-10-17T15:52:30.542639Z",
     "start_time": "2025-10-17T15:52:30.392435Z"
    }
   },
   "outputs": [
    {
     "data": {
      "text/plain": [
       "0.01"
      ]
     },
     "metadata": {},
     "output_type": "display_data"
    },
    {
     "data": {
      "text/plain": [
       "0.7"
      ]
     },
     "metadata": {},
     "output_type": "display_data"
    },
    {
     "name": "stdout",
     "output_type": "stream",
     "text": [
      "\n",
      "\n"
     ]
    },
    {
     "data": {
      "text/plain": [
       "0.1"
      ]
     },
     "metadata": {},
     "output_type": "display_data"
    },
    {
     "data": {
      "text/plain": [
       "0.7"
      ]
     },
     "metadata": {},
     "output_type": "display_data"
    },
    {
     "name": "stdout",
     "output_type": "stream",
     "text": [
      "\n",
      "\n"
     ]
    },
    {
     "data": {
      "text/plain": [
       "1"
      ]
     },
     "metadata": {},
     "output_type": "display_data"
    },
    {
     "data": {
      "text/plain": [
       "0.7"
      ]
     },
     "metadata": {},
     "output_type": "display_data"
    },
    {
     "name": "stdout",
     "output_type": "stream",
     "text": [
      "\n",
      "\n"
     ]
    },
    {
     "data": {
      "text/plain": [
       "10"
      ]
     },
     "metadata": {},
     "output_type": "display_data"
    },
    {
     "data": {
      "text/plain": [
       "0.7"
      ]
     },
     "metadata": {},
     "output_type": "display_data"
    },
    {
     "name": "stdout",
     "output_type": "stream",
     "text": [
      "\n",
      "\n"
     ]
    },
    {
     "data": {
      "text/plain": [
       "100"
      ]
     },
     "metadata": {},
     "output_type": "display_data"
    },
    {
     "data": {
      "text/plain": [
       "0.7"
      ]
     },
     "metadata": {},
     "output_type": "display_data"
    },
    {
     "name": "stdout",
     "output_type": "stream",
     "text": [
      "\n",
      "\n"
     ]
    }
   ],
   "source": [
    "\n",
    "    \n",
    "train_dicts = df_train[numerical + categorical].to_dict(orient='records')\n",
    "dv = DictVectorizer(sparse=False)\n",
    "X_train = dv.fit_transform(train_dicts)\n",
    "val_dicts = df_val[numerical + categorical].to_dict(orient='records')\n",
    "X_val = dv.transform(val_dicts)\n",
    "    \n",
    "C_values = [0.01, 0.1, 1, 10, 100]\n",
    "\n",
    "for c in C_values:\n",
    "    model = LogisticRegression(solver='liblinear', C=c, max_iter=1000, random_state=42)\n",
    "    model.fit(X_train, y_train)\n",
    "    \n",
    "    y_pred = model.predict_proba(X_val)[:, 1]\n",
    "    \n",
    "    converted_decision = (y_pred >= 0.5)\n",
    "    accuracy = round((converted_decision ==y_val).mean(),2)\n",
    "\n",
    "    display(c, accuracy)\n",
    "    print()\n",
    "    print()"
   ]
  },
  {
   "cell_type": "code",
   "execution_count": null,
   "id": "9ca8214a",
   "metadata": {},
   "outputs": [],
   "source": [
    "df_train"
   ]
  },
  {
   "cell_type": "code",
   "execution_count": null,
   "id": "7044a26a",
   "metadata": {},
   "outputs": [],
   "source": []
  },
  {
   "cell_type": "code",
   "execution_count": null,
   "id": "37fef95b",
   "metadata": {},
   "outputs": [],
   "source": []
  }
 ],
 "metadata": {
  "kernelspec": {
   "display_name": "Python 3 (ipykernel)",
   "language": "python",
   "name": "python3"
  },
  "language_info": {
   "codemirror_mode": {
    "name": "ipython",
    "version": 3
   },
   "file_extension": ".py",
   "mimetype": "text/x-python",
   "name": "python",
   "nbconvert_exporter": "python",
   "pygments_lexer": "ipython3",
   "version": "3.9.12"
  },
  "toc": {
   "base_numbering": 1,
   "nav_menu": {},
   "number_sections": true,
   "sideBar": true,
   "skip_h1_title": false,
   "title_cell": "Table of Contents",
   "title_sidebar": "Contents",
   "toc_cell": false,
   "toc_position": {},
   "toc_section_display": true,
   "toc_window_display": false
  }
 },
 "nbformat": 4,
 "nbformat_minor": 5
}
